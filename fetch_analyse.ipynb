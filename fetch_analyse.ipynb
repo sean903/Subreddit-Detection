{
 "cells": [
  {
   "cell_type": "code",
   "execution_count": 1,
   "metadata": {},
   "outputs": [],
   "source": [
    "import pandas as pd\n",
    "import requests # Pushshift accesses Reddit via a url so this is needed\n",
    "import json # JSON manipulation\n",
    "from textblob import TextBlob # Sentiment Analysis\n",
    "from nltk.tokenize import word_tokenize\n",
    "import nltk\n",
    "from sklearn.preprocessing import StandardScaler\n",
    "from matplotlib import pyplot as plt\n",
    "import numpy as np\n",
    "import seaborn as sns"
   ]
  },
  {
   "cell_type": "code",
   "execution_count": 2,
   "metadata": {},
   "outputs": [],
   "source": [
    "# Install the following for POS tagger\n",
    "# download to get nltk pos tagger\n",
    "nltk.download('averaged_perceptron_tagger')"
   ]
  },
  {
   "cell_type": "markdown",
   "metadata": {},
   "source": [
    "# Fetch Reddit Data "
   ]
  },
  {
   "cell_type": "code",
   "execution_count": 3,
   "metadata": {},
   "outputs": [],
   "source": [
    "url = 'https://api.pushshift.io/reddit/search/submission'"
   ]
  },
  {
   "cell_type": "code",
   "execution_count": 4,
   "metadata": {},
   "outputs": [],
   "source": [
    "params = {'subreddit' : 'Chess'}"
   ]
  },
  {
   "cell_type": "code",
   "execution_count": 5,
   "metadata": {},
   "outputs": [],
   "source": [
    "# Get data\n",
    "res = requests.get(url, params) "
   ]
  },
  {
   "cell_type": "code",
   "execution_count": 6,
   "metadata": {},
   "outputs": [],
   "source": [
    "data = res.json()"
   ]
  },
  {
   "cell_type": "code",
   "execution_count": 7,
   "metadata": {},
   "outputs": [
    {
     "data": {
      "text/plain": [
       "25"
      ]
     },
     "execution_count": 7,
     "metadata": {},
     "output_type": "execute_result"
    }
   ],
   "source": [
    "# Go a layer deeper!\n",
    "posts = data['data']\n",
    "len(posts)"
   ]
  },
  {
   "cell_type": "code",
   "execution_count": 8,
   "metadata": {
    "collapsed": true,
    "jupyter": {
     "outputs_hidden": true
    }
   },
   "outputs": [
    {
     "name": "stdout",
     "output_type": "stream",
     "text": [
      "<class 'pandas.core.frame.DataFrame'>\n",
      "RangeIndex: 25 entries, 0 to 24\n",
      "Data columns (total 70 columns):\n",
      " #   Column                         Non-Null Count  Dtype  \n",
      "---  ------                         --------------  -----  \n",
      " 0   all_awardings                  25 non-null     object \n",
      " 1   allow_live_comments            25 non-null     bool   \n",
      " 2   author                         25 non-null     object \n",
      " 3   author_flair_css_class         0 non-null      object \n",
      " 4   author_flair_richtext          25 non-null     object \n",
      " 5   author_flair_text              1 non-null      object \n",
      " 6   author_flair_type              25 non-null     object \n",
      " 7   author_fullname                25 non-null     object \n",
      " 8   author_is_blocked              25 non-null     bool   \n",
      " 9   author_patreon_flair           25 non-null     bool   \n",
      " 10  author_premium                 25 non-null     bool   \n",
      " 11  awarders                       25 non-null     object \n",
      " 12  can_mod_post                   25 non-null     bool   \n",
      " 13  contest_mode                   25 non-null     bool   \n",
      " 14  created_utc                    25 non-null     int64  \n",
      " 15  domain                         25 non-null     object \n",
      " 16  full_link                      25 non-null     object \n",
      " 17  gildings                       25 non-null     object \n",
      " 18  id                             25 non-null     object \n",
      " 19  is_created_from_ads_ui         25 non-null     bool   \n",
      " 20  is_crosspostable               25 non-null     bool   \n",
      " 21  is_meta                        25 non-null     bool   \n",
      " 22  is_original_content            25 non-null     bool   \n",
      " 23  is_reddit_media_domain         25 non-null     bool   \n",
      " 24  is_robot_indexable             25 non-null     bool   \n",
      " 25  is_self                        25 non-null     bool   \n",
      " 26  is_video                       25 non-null     bool   \n",
      " 27  link_flair_background_color    25 non-null     object \n",
      " 28  link_flair_richtext            25 non-null     object \n",
      " 29  link_flair_template_id         25 non-null     object \n",
      " 30  link_flair_text                25 non-null     object \n",
      " 31  link_flair_text_color          25 non-null     object \n",
      " 32  link_flair_type                25 non-null     object \n",
      " 33  locked                         25 non-null     bool   \n",
      " 34  media_only                     25 non-null     bool   \n",
      " 35  no_follow                      25 non-null     bool   \n",
      " 36  num_comments                   25 non-null     int64  \n",
      " 37  num_crossposts                 25 non-null     int64  \n",
      " 38  over_18                        25 non-null     bool   \n",
      " 39  parent_whitelist_status        25 non-null     object \n",
      " 40  permalink                      25 non-null     object \n",
      " 41  pinned                         25 non-null     bool   \n",
      " 42  pwls                           25 non-null     int64  \n",
      " 43  retrieved_on                   25 non-null     int64  \n",
      " 44  score                          25 non-null     int64  \n",
      " 45  selftext                       25 non-null     object \n",
      " 46  send_replies                   25 non-null     bool   \n",
      " 47  spoiler                        25 non-null     bool   \n",
      " 48  stickied                       25 non-null     bool   \n",
      " 49  subreddit                      25 non-null     object \n",
      " 50  subreddit_id                   25 non-null     object \n",
      " 51  subreddit_subscribers          25 non-null     int64  \n",
      " 52  subreddit_type                 25 non-null     object \n",
      " 53  thumbnail                      25 non-null     object \n",
      " 54  title                          25 non-null     object \n",
      " 55  total_awards_received          25 non-null     int64  \n",
      " 56  treatment_tags                 25 non-null     object \n",
      " 57  upvote_ratio                   25 non-null     float64\n",
      " 58  url                            25 non-null     object \n",
      " 59  whitelist_status               25 non-null     object \n",
      " 60  wls                            25 non-null     int64  \n",
      " 61  post_hint                      13 non-null     object \n",
      " 62  preview                        13 non-null     object \n",
      " 63  thumbnail_height               11 non-null     float64\n",
      " 64  thumbnail_width                11 non-null     float64\n",
      " 65  url_overridden_by_dest         12 non-null     object \n",
      " 66  removed_by_category            2 non-null      object \n",
      " 67  author_flair_background_color  3 non-null      object \n",
      " 68  author_flair_text_color        4 non-null      object \n",
      " 69  author_flair_template_id       1 non-null      object \n",
      "dtypes: bool(22), float64(3), int64(9), object(36)\n",
      "memory usage: 10.0+ KB\n"
     ]
    }
   ],
   "source": [
    "df = pd.DataFrame(posts)\n",
    "df.info()"
   ]
  },
  {
   "cell_type": "code",
   "execution_count": 9,
   "metadata": {},
   "outputs": [],
   "source": [
    "def get_pushshift_data(start, end, subreddit):\n",
    "\n",
    "    # URL\n",
    "    url = 'https://api.pushshift.io/reddit/search/submission'\n",
    "    # Add params\n",
    "    params = {'subreddit' : subreddit,\n",
    "              'size' : 100,\n",
    "              'after' : start,\n",
    "              'before' : end,\n",
    "              'filter' : ['created_utc', 'subreddit', 'title', 'selftext', 'num_comments', 'score'],\n",
    "              'num_comments' : '>0',\n",
    "              'score' : '>0',\n",
    "              \n",
    "              }\n",
    "    # Get the data\n",
    "    res = requests.get(url, params)\n",
    "    # Convert the request into a list of dict objects\n",
    "    data = res.json()\n",
    "    # Go deeper\n",
    "    posts = data['data']\n",
    "    # Turn into DataFrame\n",
    "    df = pd.DataFrame(posts)\n",
    "\n",
    "    return df"
   ]
  },
  {
   "cell_type": "code",
   "execution_count": 10,
   "metadata": {},
   "outputs": [],
   "source": [
    "# Create AITA DataFrames for years 2017-2021\n",
    "Chess_2021 = get_pushshift_data('2021-01-01', '2021-12-30', 'Chess')\n",
    "Chess_2020 = get_pushshift_data('2020-01-01', '2020-12-30', 'Chess')\n",
    "Chess_2019 = get_pushshift_data('2019-01-01', '2019-12-30', 'Chess')\n",
    "Chess_2018 = get_pushshift_data('2018-01-01', '2018-12-30', 'Chess')\n",
    "Chess_2017 = get_pushshift_data('2017-01-01', '2017-12-30', 'Chess')\n",
    "# Chess_2016 = get_pushshift_data('2021-01-01', '2016-12-30', 'Chess')\n",
    "# Chess_2015 = get_pushshift_data('2020-01-01', '2015-12-30', 'Chess')\n",
    "# Chess_2014 = get_pushshift_data('2019-01-01', '2014-12-30', 'Chess')"
   ]
  },
  {
   "cell_type": "code",
   "execution_count": 11,
   "metadata": {},
   "outputs": [],
   "source": [
    "AnarchyChess_2021 = get_pushshift_data('2021-01-01', '2021-08-30', 'AnarchyChess')\n",
    "AnarchyChess_2020 = get_pushshift_data('2020-01-01', '2020-12-30', 'AnarchyChess')\n",
    "AnarchyChess_2019 = get_pushshift_data('2019-01-01', '2019-12-30', 'AnarchyChess')\n",
    "AnarchyChess_2018 = get_pushshift_data('2018-01-01', '2018-12-30', 'AnarchyChess')\n",
    "AnarchyChess_2017 = get_pushshift_data('2017-01-01', '2017-12-30', 'AnarchyChess')\n",
    "# AnarchyChess_2016 = get_pushshift_data('2016-01-01', '2016-12-30', 'AnarchyChess')\n",
    "# AnarchyChess_2015 = get_pushshift_data('2015-01-01', '2015-12-30', 'AnarchyChess')\n",
    "# AnarchyChess_2014 = get_pushshift_data('2014-01-01', '2014-12-30', 'AnarchyChess')"
   ]
  },
  {
   "cell_type": "code",
   "execution_count": 12,
   "metadata": {},
   "outputs": [],
   "source": [
    "Chess_df = pd.concat([Chess_2017, Chess_2018 , Chess_2019, Chess_2020, Chess_2021])\n",
    "AnarchyChess_df = pd.concat([AnarchyChess_2017, AnarchyChess_2018 , AnarchyChess_2019, AnarchyChess_2020, AnarchyChess_2021])"
   ]
  },
  {
   "cell_type": "code",
   "execution_count": 13,
   "metadata": {},
   "outputs": [
    {
     "name": "stdout",
     "output_type": "stream",
     "text": [
      "<class 'pandas.core.frame.DataFrame'>\n",
      "Int64Index: 1000 entries, 0 to 99\n",
      "Data columns (total 6 columns):\n",
      " #   Column        Non-Null Count  Dtype \n",
      "---  ------        --------------  ----- \n",
      " 0   created_utc   1000 non-null   int64 \n",
      " 1   num_comments  1000 non-null   int64 \n",
      " 2   score         1000 non-null   int64 \n",
      " 3   selftext      1000 non-null   object\n",
      " 4   subreddit     1000 non-null   object\n",
      " 5   title         1000 non-null   object\n",
      "dtypes: int64(3), object(3)\n",
      "memory usage: 54.7+ KB\n"
     ]
    }
   ],
   "source": [
    "final_df = pd.concat([Chess_df, AnarchyChess_df])\n",
    "final_df.info()"
   ]
  },
  {
   "cell_type": "code",
   "execution_count": 14,
   "metadata": {},
   "outputs": [],
   "source": [
    "final_df['subreddit'] = final_df['subreddit'].replace(['chess', 'AnarchyChess'], [0, 1])"
   ]
  },
  {
   "cell_type": "code",
   "execution_count": 15,
   "metadata": {},
   "outputs": [],
   "source": [
    "filtered_df = final_df[['selftext', 'subreddit', 'title']]"
   ]
  },
  {
   "cell_type": "code",
   "execution_count": 16,
   "metadata": {},
   "outputs": [],
   "source": [
    "filtered_df.reset_index(drop=True, inplace=True)"
   ]
  },
  {
   "cell_type": "code",
   "execution_count": 17,
   "metadata": {},
   "outputs": [],
   "source": [
    "filtered_df.to_csv('./data/titles.csv')"
   ]
  },
  {
   "cell_type": "markdown",
   "metadata": {},
   "source": [
    "# Get Sentiment of Title"
   ]
  },
  {
   "cell_type": "code",
   "execution_count": 18,
   "metadata": {},
   "outputs": [
    {
     "name": "stderr",
     "output_type": "stream",
     "text": [
      "/Users/SeanMcNamara/opt/anaconda3/lib/python3.7/site-packages/ipykernel_launcher.py:1: SettingWithCopyWarning: \n",
      "A value is trying to be set on a copy of a slice from a DataFrame.\n",
      "Try using .loc[row_indexer,col_indexer] = value instead\n",
      "\n",
      "See the caveats in the documentation: https://pandas.pydata.org/pandas-docs/stable/user_guide/indexing.html#returning-a-view-versus-a-copy\n",
      "  \"\"\"Entry point for launching an IPython kernel.\n"
     ]
    }
   ],
   "source": [
    "# get polarity score of reddit title \n",
    "filtered_df['polarity'] = filtered_df['title'].apply(lambda tweet: TextBlob(tweet).sentiment.polarity)"
   ]
  },
  {
   "cell_type": "code",
   "execution_count": 19,
   "metadata": {},
   "outputs": [
    {
     "name": "stderr",
     "output_type": "stream",
     "text": [
      "/Users/SeanMcNamara/opt/anaconda3/lib/python3.7/site-packages/ipykernel_launcher.py:1: SettingWithCopyWarning: \n",
      "A value is trying to be set on a copy of a slice from a DataFrame.\n",
      "Try using .loc[row_indexer,col_indexer] = value instead\n",
      "\n",
      "See the caveats in the documentation: https://pandas.pydata.org/pandas-docs/stable/user_guide/indexing.html#returning-a-view-versus-a-copy\n",
      "  \"\"\"Entry point for launching an IPython kernel.\n"
     ]
    }
   ],
   "source": [
    "# get subjectivity score of reddit title \n",
    "filtered_df['subjectivity'] = filtered_df['title'].apply(lambda tweet: TextBlob(tweet).sentiment.subjectivity)"
   ]
  },
  {
   "cell_type": "code",
   "execution_count": 21,
   "metadata": {},
   "outputs": [],
   "source": [
    "filtered_df.to_csv('./data/titles_sentiment.csv')"
   ]
  },
  {
   "cell_type": "markdown",
   "metadata": {},
   "source": [
    "# Get Length of title"
   ]
  },
  {
   "cell_type": "code",
   "execution_count": 3,
   "metadata": {},
   "outputs": [
    {
     "ename": "NameError",
     "evalue": "name 'filtered_df' is not defined",
     "output_type": "error",
     "traceback": [
      "\u001b[0;31m---------------------------------------------------------------------------\u001b[0m",
      "\u001b[0;31mNameError\u001b[0m                                 Traceback (most recent call last)",
      "\u001b[0;32m<ipython-input-3-e094b9346940>\u001b[0m in \u001b[0;36m<module>\u001b[0;34m\u001b[0m\n\u001b[0;32m----> 1\u001b[0;31m \u001b[0mfiltered_df\u001b[0m\u001b[0;34m[\u001b[0m\u001b[0;34m'title_len'\u001b[0m\u001b[0;34m]\u001b[0m \u001b[0;34m=\u001b[0m \u001b[0mfiltered_df\u001b[0m\u001b[0;34m[\u001b[0m\u001b[0;34m'title'\u001b[0m\u001b[0;34m]\u001b[0m\u001b[0;34m.\u001b[0m\u001b[0mmap\u001b[0m\u001b[0;34m(\u001b[0m\u001b[0mlen\u001b[0m\u001b[0;34m)\u001b[0m\u001b[0;34m\u001b[0m\u001b[0;34m\u001b[0m\u001b[0m\n\u001b[0m",
      "\u001b[0;31mNameError\u001b[0m: name 'filtered_df' is not defined"
     ]
    }
   ],
   "source": [
    "filtered_df['title_len'] = filtered_df['title'].map(len)"
   ]
  },
  {
   "cell_type": "code",
   "execution_count": 48,
   "metadata": {},
   "outputs": [],
   "source": [
    "filtered_df.to_csv('./data/titles_len.csv')"
   ]
  },
  {
   "cell_type": "code",
   "execution_count": 49,
   "metadata": {},
   "outputs": [],
   "source": [
    "chess_df = filtered_df[filtered_df['subreddit'] == 0]\n",
    "anarchychess_df = filtered_df[filtered_df['subreddit'] == 1]"
   ]
  },
  {
   "cell_type": "code",
   "execution_count": 50,
   "metadata": {},
   "outputs": [],
   "source": [
    "# anarchychess_df['title'].value_counts().to_dict()"
   ]
  },
  {
   "cell_type": "code",
   "execution_count": 2,
   "metadata": {},
   "outputs": [
    {
     "ename": "NameError",
     "evalue": "name 'chess_df' is not defined",
     "output_type": "error",
     "traceback": [
      "\u001b[0;31m---------------------------------------------------------------------------\u001b[0m",
      "\u001b[0;31mNameError\u001b[0m                                 Traceback (most recent call last)",
      "\u001b[0;32m<ipython-input-2-8cbc1424cb87>\u001b[0m in \u001b[0;36m<module>\u001b[0;34m\u001b[0m\n\u001b[1;32m      1\u001b[0m \u001b[0;31m# most popular words in Chess\u001b[0m\u001b[0;34m\u001b[0m\u001b[0;34m\u001b[0m\u001b[0;34m\u001b[0m\u001b[0m\n\u001b[0;32m----> 2\u001b[0;31m \u001b[0mchess_df\u001b[0m\u001b[0;34m[\u001b[0m\u001b[0;34m'title'\u001b[0m\u001b[0;34m]\u001b[0m\u001b[0;34m.\u001b[0m\u001b[0mstr\u001b[0m\u001b[0;34m.\u001b[0m\u001b[0msplit\u001b[0m\u001b[0;34m(\u001b[0m\u001b[0;34m' '\u001b[0m\u001b[0;34m,\u001b[0m \u001b[0mexpand\u001b[0m\u001b[0;34m=\u001b[0m\u001b[0;32mTrue\u001b[0m\u001b[0;34m)\u001b[0m\u001b[0;34m.\u001b[0m\u001b[0mstack\u001b[0m\u001b[0;34m(\u001b[0m\u001b[0;34m)\u001b[0m\u001b[0;34m.\u001b[0m\u001b[0mvalue_counts\u001b[0m\u001b[0;34m(\u001b[0m\u001b[0;34m)\u001b[0m\u001b[0;34m.\u001b[0m\u001b[0mhead\u001b[0m\u001b[0;34m(\u001b[0m\u001b[0;36m10\u001b[0m\u001b[0;34m)\u001b[0m\u001b[0;34m\u001b[0m\u001b[0;34m\u001b[0m\u001b[0m\n\u001b[0m",
      "\u001b[0;31mNameError\u001b[0m: name 'chess_df' is not defined"
     ]
    }
   ],
   "source": [
    "# most popular words in Chess subreddit\n",
    "chess_df['title'].str.split(' ', expand=True).stack().value_counts().head(10)"
   ]
  },
  {
   "cell_type": "code",
   "execution_count": 52,
   "metadata": {},
   "outputs": [
    {
     "data": {
      "text/plain": [
       "the              135\n",
       "to               107\n",
       "a                 88\n",
       "chess             66\n",
       "I                 66\n",
       "                ... \n",
       "Antichess_irl      1\n",
       "Principals.        1\n",
       "exchange..         1\n",
       "Tfw                1\n",
       "Respected          1\n",
       "Length: 1895, dtype: int64"
      ]
     },
     "execution_count": 52,
     "metadata": {},
     "output_type": "execute_result"
    }
   ],
   "source": [
    "# most popular words in AnarchyChess subreddit\n",
    "anarchychess_df['title'].str.split(' ', expand=True).stack().value_counts()"
   ]
  },
  {
   "cell_type": "code",
   "execution_count": 53,
   "metadata": {},
   "outputs": [],
   "source": [
    "combined_df = pd.concat([chess_df,anarchychess_df ])"
   ]
  },
  {
   "cell_type": "code",
   "execution_count": 54,
   "metadata": {},
   "outputs": [],
   "source": [
    "combined_df.reset_index(inplace=True)"
   ]
  },
  {
   "cell_type": "markdown",
   "metadata": {},
   "source": [
    "# Title, Polarity and Subjectivity plots"
   ]
  },
  {
   "cell_type": "markdown",
   "metadata": {},
   "source": [
    "### Title Length Plot"
   ]
  },
  {
   "cell_type": "code",
   "execution_count": 55,
   "metadata": {},
   "outputs": [
    {
     "data": {
      "image/png": "[encoded data removed]",
      "text/plain": [
       "<Figure size 415.375x360 with 1 Axes>"
      ]
     },
     "metadata": {
      "needs_background": "light"
     },
     "output_type": "display_data"
    }
   ],
   "source": [
    "# https://stackoverflow.com/questions/46045750/seaborn-distplot-displot-with-multiple-distributions\n",
    "\n",
    "chart = sns.displot(data=combined_df, x='title_len', hue='subreddit', kind='kde',\n",
    "            fill=True, palette=sns.color_palette('bright')[:2], height=5, aspect=1).set(xlim=(0, 200))\n",
    "\n",
    "plt.xlabel(\"Title Length\")\n",
    "\n",
    "chart._legend.set_title('Subreddit')\n",
    "\n",
    "# Replacing labels\n",
    "new_labels = ['Chess', 'AnarchyChess']\n",
    "for t, l in zip(chart._legend.texts, new_labels):\n",
    "    t.set_text(l)\n",
    "\n",
    "plt.savefig('reddit_title_length')"
   ]
  },
  {
   "cell_type": "code",
   "execution_count": 56,
   "metadata": {},
   "outputs": [],
   "source": [
    "filtered_df.reset_index(inplace=True)"
   ]
  },
  {
   "cell_type": "markdown",
   "metadata": {},
   "source": [
    "### Polarity plot"
   ]
  },
  {
   "cell_type": "code",
   "execution_count": 57,
   "metadata": {},
   "outputs": [
    {
     "data": {
      "image/png": "[encoded data removed]",
      "text/plain": [
       "<Figure size 415.375x360 with 1 Axes>"
      ]
     },
     "metadata": {
      "needs_background": "light"
     },
     "output_type": "display_data"
    }
   ],
   "source": [
    "# https://stackoverflow.com/questions/46045750/seaborn-distplot-displot-with-multiple-distributions\n",
    "\n",
    "chart = sns.displot(data=filtered_df, x='polarity', hue='subreddit', kind='kde',\n",
    "            fill=True, palette=sns.color_palette('bright')[:2], height=5, aspect=1).set(xlim=(-1, 1))\n",
    "\n",
    "plt.xlabel(\"Polarity\")\n",
    "\n",
    "chart._legend.set_title('Subreddit')\n",
    "\n",
    "# Replacing labels\n",
    "new_labels = ['Chess', 'AnarchyChess']\n",
    "for t, l in zip(chart._legend.texts, new_labels):\n",
    "    t.set_text(l)\n",
    "\n",
    "plt.savefig('reddit_polarity')"
   ]
  },
  {
   "cell_type": "markdown",
   "metadata": {},
   "source": [
    "### Subjectivity plot"
   ]
  },
  {
   "cell_type": "code",
   "execution_count": 58,
   "metadata": {},
   "outputs": [
    {
     "data": {
      "image/png": "[encoded data removed]",
      "text/plain": [
       "<Figure size 415.375x360 with 1 Axes>"
      ]
     },
     "metadata": {
      "needs_background": "light"
     },
     "output_type": "display_data"
    }
   ],
   "source": [
    "# https://stackoverflow.com/questions/46045750/seaborn-distplot-displot-with-multiple-distributions\n",
    "\n",
    "chart = sns.displot(data=filtered_df, x='subjectivity', hue='subreddit', kind='kde',\n",
    "            fill=True, palette=sns.color_palette('bright')[:2], height=5, aspect=1).set(xlim=(-0.25, 1.5))\n",
    "\n",
    "plt.xlabel(\"Subjectivity\")\n",
    "\n",
    "chart._legend.set_title('Subreddit')\n",
    "\n",
    "# Replacing labels\n",
    "new_labels = ['Chess', 'AnarchyChess']\n",
    "for t, l in zip(chart._legend.texts, new_labels):\n",
    "    t.set_text(l)\n",
    "\n",
    "plt.savefig('reddit_subjectivity')"
   ]
  },
  {
   "cell_type": "code",
   "execution_count": null,
   "metadata": {},
   "outputs": [],
   "source": []
  }
 ],
 "metadata": {
  "kernelspec": {
   "display_name": "Python 3",
   "language": "python",
   "name": "python3"
  },
  "language_info": {
   "codemirror_mode": {
    "name": "ipython",
    "version": 3
   },
   "file_extension": ".py",
   "mimetype": "text/x-python",
   "name": "python",
   "nbconvert_exporter": "python",
   "pygments_lexer": "ipython3",
   "version": "3.7.6"
  }
 },
 "nbformat": 4,
 "nbformat_minor": 4
}
