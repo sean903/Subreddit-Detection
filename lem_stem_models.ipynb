{
 "cells": [
  {
   "cell_type": "code",
   "execution_count": 1,
   "metadata": {},
   "outputs": [],
   "source": [
    "# ALL The Imports:\n",
    "\n",
    "import pandas as pd\n",
    "import numpy as np\n",
    "from imblearn.pipeline import make_pipeline\n",
    "from imblearn.over_sampling import RandomOverSampler, SMOTE, ADASYN, SMOTENC\n",
    "import time\n",
    "from nltk.tokenize import sent_tokenize, word_tokenize, RegexpTokenizer\n",
    "from nltk.corpus import stopwords\n",
    "from nltk.stem import WordNetLemmatizer\n",
    "import nltk\n",
    "import json\n",
    "\n",
    "# SKlearn imports:\n",
    "from sklearn.feature_extraction.text import CountVectorizer, TfidfVectorizer\n",
    "from sklearn.feature_selection import RFE\n",
    "from sklearn.model_selection import train_test_split, GridSearchCV, cross_val_score\n",
    "from sklearn.linear_model import LinearRegression, Ridge, Lasso, LogisticRegression\n",
    "from sklearn.metrics import mean_squared_error, mean_absolute_error, r2_score, f1_score, balanced_accuracy_score, RocCurveDisplay, recall_score, precision_score, recall_score, accuracy_score, ConfusionMatrixDisplay, roc_auc_score, precision_score, confusion_matrix\n",
    "from sklearn.compose import make_column_transformer, make_column_selector\n",
    "from sklearn.neighbors import NearestNeighbors, KNeighborsClassifier, KNeighborsRegressor\n",
    "from sklearn.pipeline import make_pipeline\n",
    "from sklearn.impute import KNNImputer, SimpleImputer\n",
    "from sklearn.preprocessing import StandardScaler, OneHotEncoder, PolynomialFeatures\n",
    "from sklearn.tree import DecisionTreeRegressor, plot_tree, DecisionTreeClassifier\n",
    "from sklearn import set_config\n",
    "from sklearn.naive_bayes import GaussianNB, MultinomialNB\n",
    "set_config(display = 'diagram')\n",
    "from nltk.stem import PorterStemmer\n",
    "from sklearn.ensemble import BaggingClassifier, RandomForestClassifier, ExtraTreesClassifier, VotingClassifier, BaggingRegressor,  RandomForestRegressor"
   ]
  },
  {
   "cell_type": "code",
   "execution_count": 2,
   "metadata": {},
   "outputs": [],
   "source": [
    "df = pd.read_csv('./data/titles_sentiment.csv')"
   ]
  },
  {
   "cell_type": "code",
   "execution_count": 3,
   "metadata": {},
   "outputs": [],
   "source": [
    "X = df['title']\n",
    "y = df['subreddit']"
   ]
  },
  {
   "cell_type": "markdown",
   "metadata": {},
   "source": [
    "# Lemmatize words Logistic Regression"
   ]
  },
  {
   "cell_type": "code",
   "execution_count": 4,
   "metadata": {},
   "outputs": [],
   "source": [
    "def lem_sentence(sentence):\n",
    "    lemmatizer = WordNetLemmatizer()\n",
    "\n",
    "    split_sentence = sentence.split(' ')\n",
    "\n",
    "    return [lemmatizer.lemmatize(word) for word in split_sentence]"
   ]
  },
  {
   "cell_type": "code",
   "execution_count": 5,
   "metadata": {},
   "outputs": [],
   "source": [
    "X_lem = X.map(lem_sentence)\n",
    "X_lem = [' '.join(map(str, l)) for l in X_lem]"
   ]
  },
  {
   "cell_type": "code",
   "execution_count": 6,
   "metadata": {},
   "outputs": [],
   "source": [
    "X_train, X_test, y_train, y_test = train_test_split(X_lem,y, random_state=123, train_size = 0.75)"
   ]
  },
  {
   "cell_type": "code",
   "execution_count": 7,
   "metadata": {},
   "outputs": [],
   "source": [
    "cvect_pipe = make_pipeline(\n",
    "    CountVectorizer(stop_words = 'english', max_features = 1000),\n",
    "                           LogisticRegression(max_iter=10_000, penalty=\"none\"))"
   ]
  },
  {
   "cell_type": "code",
   "execution_count": 8,
   "metadata": {},
   "outputs": [
    {
     "data": {
      "text/html": [
       "<style>#sk-567ece5b-7c9c-46fc-a948-36798d68add8 {color: black;background-color: white;}#sk-567ece5b-7c9c-46fc-a948-36798d68add8 pre{padding: 0;}#sk-567ece5b-7c9c-46fc-a948-36798d68add8 div.sk-toggleable {background-color: white;}#sk-567ece5b-7c9c-46fc-a948-36798d68add8 label.sk-toggleable__label {cursor: pointer;display: block;width: 100%;margin-bottom: 0;padding: 0.3em;box-sizing: border-box;text-align: center;}#sk-567ece5b-7c9c-46fc-a948-36798d68add8 div.sk-toggleable__content {max-height: 0;max-width: 0;overflow: hidden;text-align: left;background-color: #f0f8ff;}#sk-567ece5b-7c9c-46fc-a948-36798d68add8 div.sk-toggleable__content pre {margin: 0.2em;color: black;border-radius: 0.25em;background-color: #f0f8ff;}#sk-567ece5b-7c9c-46fc-a948-36798d68add8 input.sk-toggleable__control:checked~div.sk-toggleable__content {max-height: 200px;max-width: 100%;overflow: auto;}#sk-567ece5b-7c9c-46fc-a948-36798d68add8 div.sk-estimator input.sk-toggleable__control:checked~label.sk-toggleable__label {background-color: #d4ebff;}#sk-567ece5b-7c9c-46fc-a948-36798d68add8 div.sk-label input.sk-toggleable__control:checked~label.sk-toggleable__label {background-color: #d4ebff;}#sk-567ece5b-7c9c-46fc-a948-36798d68add8 input.sk-hidden--visually {border: 0;clip: rect(1px 1px 1px 1px);clip: rect(1px, 1px, 1px, 1px);height: 1px;margin: -1px;overflow: hidden;padding: 0;position: absolute;width: 1px;}#sk-567ece5b-7c9c-46fc-a948-36798d68add8 div.sk-estimator {font-family: monospace;background-color: #f0f8ff;border: 1px dotted black;border-radius: 0.25em;box-sizing: border-box;margin-bottom: 0.5em;}#sk-567ece5b-7c9c-46fc-a948-36798d68add8 div.sk-estimator:hover {background-color: #d4ebff;}#sk-567ece5b-7c9c-46fc-a948-36798d68add8 div.sk-parallel-item::after {content: \"\";width: 100%;border-bottom: 1px solid gray;flex-grow: 1;}#sk-567ece5b-7c9c-46fc-a948-36798d68add8 div.sk-label:hover label.sk-toggleable__label {background-color: #d4ebff;}#sk-567ece5b-7c9c-46fc-a948-36798d68add8 div.sk-serial::before {content: \"\";position: absolute;border-left: 1px solid gray;box-sizing: border-box;top: 2em;bottom: 0;left: 50%;}#sk-567ece5b-7c9c-46fc-a948-36798d68add8 div.sk-serial {display: flex;flex-direction: column;align-items: center;background-color: white;padding-right: 0.2em;padding-left: 0.2em;}#sk-567ece5b-7c9c-46fc-a948-36798d68add8 div.sk-item {z-index: 1;}#sk-567ece5b-7c9c-46fc-a948-36798d68add8 div.sk-parallel {display: flex;align-items: stretch;justify-content: center;background-color: white;}#sk-567ece5b-7c9c-46fc-a948-36798d68add8 div.sk-parallel::before {content: \"\";position: absolute;border-left: 1px solid gray;box-sizing: border-box;top: 2em;bottom: 0;left: 50%;}#sk-567ece5b-7c9c-46fc-a948-36798d68add8 div.sk-parallel-item {display: flex;flex-direction: column;position: relative;background-color: white;}#sk-567ece5b-7c9c-46fc-a948-36798d68add8 div.sk-parallel-item:first-child::after {align-self: flex-end;width: 50%;}#sk-567ece5b-7c9c-46fc-a948-36798d68add8 div.sk-parallel-item:last-child::after {align-self: flex-start;width: 50%;}#sk-567ece5b-7c9c-46fc-a948-36798d68add8 div.sk-parallel-item:only-child::after {width: 0;}#sk-567ece5b-7c9c-46fc-a948-36798d68add8 div.sk-dashed-wrapped {border: 1px dashed gray;margin: 0 0.4em 0.5em 0.4em;box-sizing: border-box;padding-bottom: 0.4em;background-color: white;position: relative;}#sk-567ece5b-7c9c-46fc-a948-36798d68add8 div.sk-label label {font-family: monospace;font-weight: bold;background-color: white;display: inline-block;line-height: 1.2em;}#sk-567ece5b-7c9c-46fc-a948-36798d68add8 div.sk-label-container {position: relative;z-index: 2;text-align: center;}#sk-567ece5b-7c9c-46fc-a948-36798d68add8 div.sk-container {display: inline-block;position: relative;}</style><div id=\"sk-567ece5b-7c9c-46fc-a948-36798d68add8\" class\"sk-top-container\"><div class=\"sk-container\"><div class=\"sk-item sk-dashed-wrapped\"><div class=\"sk-label-container\"><div class=\"sk-label sk-toggleable\"><input class=\"sk-toggleable__control sk-hidden--visually\" id=\"e62fbed2-6c79-4364-8d7e-fdb290bd3d90\" type=\"checkbox\" ><label class=\"sk-toggleable__label\" for=\"e62fbed2-6c79-4364-8d7e-fdb290bd3d90\">Pipeline</label><div class=\"sk-toggleable__content\"><pre>Pipeline(steps=[('countvectorizer',\n",
       "                 CountVectorizer(max_features=1000, stop_words='english')),\n",
       "                ('logisticregression',\n",
       "                 LogisticRegression(max_iter=10000, penalty='none'))])</pre></div></div></div><div class=\"sk-serial\"><div class=\"sk-item\"><div class=\"sk-estimator sk-toggleable\"><input class=\"sk-toggleable__control sk-hidden--visually\" id=\"4b2a6e12-4aad-4bd4-8499-0333e1e68aa2\" type=\"checkbox\" ><label class=\"sk-toggleable__label\" for=\"4b2a6e12-4aad-4bd4-8499-0333e1e68aa2\">CountVectorizer</label><div class=\"sk-toggleable__content\"><pre>CountVectorizer(max_features=1000, stop_words='english')</pre></div></div></div><div class=\"sk-item\"><div class=\"sk-estimator sk-toggleable\"><input class=\"sk-toggleable__control sk-hidden--visually\" id=\"b35ffbd2-6b80-4475-a6cb-f371f4eac5d7\" type=\"checkbox\" ><label class=\"sk-toggleable__label\" for=\"b35ffbd2-6b80-4475-a6cb-f371f4eac5d7\">LogisticRegression</label><div class=\"sk-toggleable__content\"><pre>LogisticRegression(max_iter=10000, penalty='none')</pre></div></div></div></div></div></div></div>"
      ],
      "text/plain": [
       "Pipeline(steps=[('countvectorizer',\n",
       "                 CountVectorizer(max_features=1000, stop_words='english')),\n",
       "                ('logisticregression',\n",
       "                 LogisticRegression(max_iter=10000, penalty='none'))])"
      ]
     },
     "execution_count": 8,
     "metadata": {},
     "output_type": "execute_result"
    }
   ],
   "source": [
    "cvect_pipe.fit(X_train, y_train)"
   ]
  },
  {
   "cell_type": "code",
   "execution_count": 9,
   "metadata": {},
   "outputs": [
    {
     "data": {
      "text/plain": [
       "0.9866666666666667"
      ]
     },
     "execution_count": 9,
     "metadata": {},
     "output_type": "execute_result"
    }
   ],
   "source": [
    "cvect_pipe.score(X_train, y_train)"
   ]
  },
  {
   "cell_type": "code",
   "execution_count": 10,
   "metadata": {},
   "outputs": [
    {
     "data": {
      "text/plain": [
       "0.632"
      ]
     },
     "execution_count": 10,
     "metadata": {},
     "output_type": "execute_result"
    }
   ],
   "source": [
    "cvect_pipe.score(X_test, y_test)"
   ]
  },
  {
   "cell_type": "code",
   "execution_count": null,
   "metadata": {},
   "outputs": [],
   "source": []
  },
  {
   "cell_type": "markdown",
   "metadata": {},
   "source": [
    "# Lemmatized Random Forest"
   ]
  },
  {
   "cell_type": "code",
   "execution_count": 11,
   "metadata": {},
   "outputs": [],
   "source": [
    "forest_pipe = make_pipeline(\n",
    "    CountVectorizer(stop_words = 'english', max_features = 20_000),\n",
    "                           RandomForestClassifier(n_estimators = 1000))"
   ]
  },
  {
   "cell_type": "code",
   "execution_count": 12,
   "metadata": {},
   "outputs": [],
   "source": [
    "# forest_pipe.score(X_test, y_test)"
   ]
  },
  {
   "cell_type": "code",
   "execution_count": 13,
   "metadata": {},
   "outputs": [],
   "source": [
    "# forest_pipe.params_"
   ]
  },
  {
   "cell_type": "code",
   "execution_count": 14,
   "metadata": {},
   "outputs": [],
   "source": [
    "params = {'randomforestclassifier__n_estimators' : [100],\n",
    "#           'countvectorizer__ngram_range' : [(1,1), (1,2), (1,3)]\n",
    "}"
   ]
  },
  {
   "cell_type": "code",
   "execution_count": 15,
   "metadata": {},
   "outputs": [],
   "source": [
    "gs = GridSearchCV(forest_pipe, params, n_jobs =-1)"
   ]
  },
  {
   "cell_type": "code",
   "execution_count": 16,
   "metadata": {},
   "outputs": [
    {
     "data": {
      "text/html": [
       "<style>#sk-ed5aa8b8-ffc3-406e-a716-b7b1b1d86d02 {color: black;background-color: white;}#sk-ed5aa8b8-ffc3-406e-a716-b7b1b1d86d02 pre{padding: 0;}#sk-ed5aa8b8-ffc3-406e-a716-b7b1b1d86d02 div.sk-toggleable {background-color: white;}#sk-ed5aa8b8-ffc3-406e-a716-b7b1b1d86d02 label.sk-toggleable__label {cursor: pointer;display: block;width: 100%;margin-bottom: 0;padding: 0.3em;box-sizing: border-box;text-align: center;}#sk-ed5aa8b8-ffc3-406e-a716-b7b1b1d86d02 div.sk-toggleable__content {max-height: 0;max-width: 0;overflow: hidden;text-align: left;background-color: #f0f8ff;}#sk-ed5aa8b8-ffc3-406e-a716-b7b1b1d86d02 div.sk-toggleable__content pre {margin: 0.2em;color: black;border-radius: 0.25em;background-color: #f0f8ff;}#sk-ed5aa8b8-ffc3-406e-a716-b7b1b1d86d02 input.sk-toggleable__control:checked~div.sk-toggleable__content {max-height: 200px;max-width: 100%;overflow: auto;}#sk-ed5aa8b8-ffc3-406e-a716-b7b1b1d86d02 div.sk-estimator input.sk-toggleable__control:checked~label.sk-toggleable__label {background-color: #d4ebff;}#sk-ed5aa8b8-ffc3-406e-a716-b7b1b1d86d02 div.sk-label input.sk-toggleable__control:checked~label.sk-toggleable__label {background-color: #d4ebff;}#sk-ed5aa8b8-ffc3-406e-a716-b7b1b1d86d02 input.sk-hidden--visually {border: 0;clip: rect(1px 1px 1px 1px);clip: rect(1px, 1px, 1px, 1px);height: 1px;margin: -1px;overflow: hidden;padding: 0;position: absolute;width: 1px;}#sk-ed5aa8b8-ffc3-406e-a716-b7b1b1d86d02 div.sk-estimator {font-family: monospace;background-color: #f0f8ff;border: 1px dotted black;border-radius: 0.25em;box-sizing: border-box;margin-bottom: 0.5em;}#sk-ed5aa8b8-ffc3-406e-a716-b7b1b1d86d02 div.sk-estimator:hover {background-color: #d4ebff;}#sk-ed5aa8b8-ffc3-406e-a716-b7b1b1d86d02 div.sk-parallel-item::after {content: \"\";width: 100%;border-bottom: 1px solid gray;flex-grow: 1;}#sk-ed5aa8b8-ffc3-406e-a716-b7b1b1d86d02 div.sk-label:hover label.sk-toggleable__label {background-color: #d4ebff;}#sk-ed5aa8b8-ffc3-406e-a716-b7b1b1d86d02 div.sk-serial::before {content: \"\";position: absolute;border-left: 1px solid gray;box-sizing: border-box;top: 2em;bottom: 0;left: 50%;}#sk-ed5aa8b8-ffc3-406e-a716-b7b1b1d86d02 div.sk-serial {display: flex;flex-direction: column;align-items: center;background-color: white;padding-right: 0.2em;padding-left: 0.2em;}#sk-ed5aa8b8-ffc3-406e-a716-b7b1b1d86d02 div.sk-item {z-index: 1;}#sk-ed5aa8b8-ffc3-406e-a716-b7b1b1d86d02 div.sk-parallel {display: flex;align-items: stretch;justify-content: center;background-color: white;}#sk-ed5aa8b8-ffc3-406e-a716-b7b1b1d86d02 div.sk-parallel::before {content: \"\";position: absolute;border-left: 1px solid gray;box-sizing: border-box;top: 2em;bottom: 0;left: 50%;}#sk-ed5aa8b8-ffc3-406e-a716-b7b1b1d86d02 div.sk-parallel-item {display: flex;flex-direction: column;position: relative;background-color: white;}#sk-ed5aa8b8-ffc3-406e-a716-b7b1b1d86d02 div.sk-parallel-item:first-child::after {align-self: flex-end;width: 50%;}#sk-ed5aa8b8-ffc3-406e-a716-b7b1b1d86d02 div.sk-parallel-item:last-child::after {align-self: flex-start;width: 50%;}#sk-ed5aa8b8-ffc3-406e-a716-b7b1b1d86d02 div.sk-parallel-item:only-child::after {width: 0;}#sk-ed5aa8b8-ffc3-406e-a716-b7b1b1d86d02 div.sk-dashed-wrapped {border: 1px dashed gray;margin: 0 0.4em 0.5em 0.4em;box-sizing: border-box;padding-bottom: 0.4em;background-color: white;position: relative;}#sk-ed5aa8b8-ffc3-406e-a716-b7b1b1d86d02 div.sk-label label {font-family: monospace;font-weight: bold;background-color: white;display: inline-block;line-height: 1.2em;}#sk-ed5aa8b8-ffc3-406e-a716-b7b1b1d86d02 div.sk-label-container {position: relative;z-index: 2;text-align: center;}#sk-ed5aa8b8-ffc3-406e-a716-b7b1b1d86d02 div.sk-container {display: inline-block;position: relative;}</style><div id=\"sk-ed5aa8b8-ffc3-406e-a716-b7b1b1d86d02\" class\"sk-top-container\"><div class=\"sk-container\"><div class=\"sk-item sk-dashed-wrapped\"><div class=\"sk-label-container\"><div class=\"sk-label sk-toggleable\"><input class=\"sk-toggleable__control sk-hidden--visually\" id=\"fe7eb755-9d39-4885-9d0f-7cde44a4bbb3\" type=\"checkbox\" ><label class=\"sk-toggleable__label\" for=\"fe7eb755-9d39-4885-9d0f-7cde44a4bbb3\">GridSearchCV</label><div class=\"sk-toggleable__content\"><pre>GridSearchCV(estimator=Pipeline(steps=[('countvectorizer',\n",
       "                                        CountVectorizer(max_features=20000,\n",
       "                                                        stop_words='english')),\n",
       "                                       ('randomforestclassifier',\n",
       "                                        RandomForestClassifier(n_estimators=1000))]),\n",
       "             n_jobs=-1,\n",
       "             param_grid={'randomforestclassifier__n_estimators': [100]})</pre></div></div></div><div class=\"sk-parallel\"><div class=\"sk-parallel-item\"><div class=\"sk-item\"><div class=\"sk-serial\"><div class=\"sk-item\"><div class=\"sk-serial\"><div class=\"sk-item\"><div class=\"sk-estimator sk-toggleable\"><input class=\"sk-toggleable__control sk-hidden--visually\" id=\"8c9e8911-2372-473e-9436-5157412cbe08\" type=\"checkbox\" ><label class=\"sk-toggleable__label\" for=\"8c9e8911-2372-473e-9436-5157412cbe08\">CountVectorizer</label><div class=\"sk-toggleable__content\"><pre>CountVectorizer(max_features=20000, stop_words='english')</pre></div></div></div><div class=\"sk-item\"><div class=\"sk-estimator sk-toggleable\"><input class=\"sk-toggleable__control sk-hidden--visually\" id=\"5e09b4f0-499a-478c-8769-ecc364521b68\" type=\"checkbox\" ><label class=\"sk-toggleable__label\" for=\"5e09b4f0-499a-478c-8769-ecc364521b68\">RandomForestClassifier</label><div class=\"sk-toggleable__content\"><pre>RandomForestClassifier(n_estimators=1000)</pre></div></div></div></div></div></div></div></div></div></div></div></div>"
      ],
      "text/plain": [
       "GridSearchCV(estimator=Pipeline(steps=[('countvectorizer',\n",
       "                                        CountVectorizer(max_features=20000,\n",
       "                                                        stop_words='english')),\n",
       "                                       ('randomforestclassifier',\n",
       "                                        RandomForestClassifier(n_estimators=1000))]),\n",
       "             n_jobs=-1,\n",
       "             param_grid={'randomforestclassifier__n_estimators': [100]})"
      ]
     },
     "execution_count": 16,
     "metadata": {},
     "output_type": "execute_result"
    }
   ],
   "source": [
    "gs.fit(X_train, y_train)"
   ]
  },
  {
   "cell_type": "code",
   "execution_count": 17,
   "metadata": {},
   "outputs": [
    {
     "data": {
      "text/plain": [
       "0.9946666666666667"
      ]
     },
     "execution_count": 17,
     "metadata": {},
     "output_type": "execute_result"
    }
   ],
   "source": [
    "gs.score(X_train, y_train)"
   ]
  },
  {
   "cell_type": "code",
   "execution_count": 18,
   "metadata": {},
   "outputs": [
    {
     "data": {
      "text/plain": [
       "0.652"
      ]
     },
     "execution_count": 18,
     "metadata": {},
     "output_type": "execute_result"
    }
   ],
   "source": [
    "gs.score(X_test, y_test)"
   ]
  },
  {
   "cell_type": "raw",
   "metadata": {},
   "source": [
    "gs.best_params_"
   ]
  },
  {
   "cell_type": "markdown",
   "metadata": {},
   "source": [
    "# Stemmed Logistic Regression"
   ]
  },
  {
   "cell_type": "code",
   "execution_count": 20,
   "metadata": {},
   "outputs": [],
   "source": [
    "def stem_sentence(sentence):\n",
    "    p_stemmer = PorterStemmer()\n",
    "\n",
    "    split_sentence = sentence.split(' ')\n",
    "\n",
    "    return [p_stemmer.stem(word) for word in split_sentence]"
   ]
  },
  {
   "cell_type": "code",
   "execution_count": 21,
   "metadata": {},
   "outputs": [],
   "source": [
    "X_stem = X.map(stem_sentence)\n",
    "X_stem = [' '.join(map(str, l)) for l in X_stem]"
   ]
  },
  {
   "cell_type": "code",
   "execution_count": 22,
   "metadata": {},
   "outputs": [],
   "source": [
    "X_train, X_test, y_train, y_test = train_test_split(X_stem,y, random_state=123)"
   ]
  },
  {
   "cell_type": "code",
   "execution_count": 23,
   "metadata": {},
   "outputs": [
    {
     "data": {
      "text/html": [
       "<style>#sk-052d55fb-d1af-40ae-8544-73bead1ec83a {color: black;background-color: white;}#sk-052d55fb-d1af-40ae-8544-73bead1ec83a pre{padding: 0;}#sk-052d55fb-d1af-40ae-8544-73bead1ec83a div.sk-toggleable {background-color: white;}#sk-052d55fb-d1af-40ae-8544-73bead1ec83a label.sk-toggleable__label {cursor: pointer;display: block;width: 100%;margin-bottom: 0;padding: 0.3em;box-sizing: border-box;text-align: center;}#sk-052d55fb-d1af-40ae-8544-73bead1ec83a div.sk-toggleable__content {max-height: 0;max-width: 0;overflow: hidden;text-align: left;background-color: #f0f8ff;}#sk-052d55fb-d1af-40ae-8544-73bead1ec83a div.sk-toggleable__content pre {margin: 0.2em;color: black;border-radius: 0.25em;background-color: #f0f8ff;}#sk-052d55fb-d1af-40ae-8544-73bead1ec83a input.sk-toggleable__control:checked~div.sk-toggleable__content {max-height: 200px;max-width: 100%;overflow: auto;}#sk-052d55fb-d1af-40ae-8544-73bead1ec83a div.sk-estimator input.sk-toggleable__control:checked~label.sk-toggleable__label {background-color: #d4ebff;}#sk-052d55fb-d1af-40ae-8544-73bead1ec83a div.sk-label input.sk-toggleable__control:checked~label.sk-toggleable__label {background-color: #d4ebff;}#sk-052d55fb-d1af-40ae-8544-73bead1ec83a input.sk-hidden--visually {border: 0;clip: rect(1px 1px 1px 1px);clip: rect(1px, 1px, 1px, 1px);height: 1px;margin: -1px;overflow: hidden;padding: 0;position: absolute;width: 1px;}#sk-052d55fb-d1af-40ae-8544-73bead1ec83a div.sk-estimator {font-family: monospace;background-color: #f0f8ff;border: 1px dotted black;border-radius: 0.25em;box-sizing: border-box;margin-bottom: 0.5em;}#sk-052d55fb-d1af-40ae-8544-73bead1ec83a div.sk-estimator:hover {background-color: #d4ebff;}#sk-052d55fb-d1af-40ae-8544-73bead1ec83a div.sk-parallel-item::after {content: \"\";width: 100%;border-bottom: 1px solid gray;flex-grow: 1;}#sk-052d55fb-d1af-40ae-8544-73bead1ec83a div.sk-label:hover label.sk-toggleable__label {background-color: #d4ebff;}#sk-052d55fb-d1af-40ae-8544-73bead1ec83a div.sk-serial::before {content: \"\";position: absolute;border-left: 1px solid gray;box-sizing: border-box;top: 2em;bottom: 0;left: 50%;}#sk-052d55fb-d1af-40ae-8544-73bead1ec83a div.sk-serial {display: flex;flex-direction: column;align-items: center;background-color: white;padding-right: 0.2em;padding-left: 0.2em;}#sk-052d55fb-d1af-40ae-8544-73bead1ec83a div.sk-item {z-index: 1;}#sk-052d55fb-d1af-40ae-8544-73bead1ec83a div.sk-parallel {display: flex;align-items: stretch;justify-content: center;background-color: white;}#sk-052d55fb-d1af-40ae-8544-73bead1ec83a div.sk-parallel::before {content: \"\";position: absolute;border-left: 1px solid gray;box-sizing: border-box;top: 2em;bottom: 0;left: 50%;}#sk-052d55fb-d1af-40ae-8544-73bead1ec83a div.sk-parallel-item {display: flex;flex-direction: column;position: relative;background-color: white;}#sk-052d55fb-d1af-40ae-8544-73bead1ec83a div.sk-parallel-item:first-child::after {align-self: flex-end;width: 50%;}#sk-052d55fb-d1af-40ae-8544-73bead1ec83a div.sk-parallel-item:last-child::after {align-self: flex-start;width: 50%;}#sk-052d55fb-d1af-40ae-8544-73bead1ec83a div.sk-parallel-item:only-child::after {width: 0;}#sk-052d55fb-d1af-40ae-8544-73bead1ec83a div.sk-dashed-wrapped {border: 1px dashed gray;margin: 0 0.4em 0.5em 0.4em;box-sizing: border-box;padding-bottom: 0.4em;background-color: white;position: relative;}#sk-052d55fb-d1af-40ae-8544-73bead1ec83a div.sk-label label {font-family: monospace;font-weight: bold;background-color: white;display: inline-block;line-height: 1.2em;}#sk-052d55fb-d1af-40ae-8544-73bead1ec83a div.sk-label-container {position: relative;z-index: 2;text-align: center;}#sk-052d55fb-d1af-40ae-8544-73bead1ec83a div.sk-container {display: inline-block;position: relative;}</style><div id=\"sk-052d55fb-d1af-40ae-8544-73bead1ec83a\" class\"sk-top-container\"><div class=\"sk-container\"><div class=\"sk-item sk-dashed-wrapped\"><div class=\"sk-label-container\"><div class=\"sk-label sk-toggleable\"><input class=\"sk-toggleable__control sk-hidden--visually\" id=\"e6f94ef4-e7f3-4b65-9ebb-c8842ce8ed7e\" type=\"checkbox\" ><label class=\"sk-toggleable__label\" for=\"e6f94ef4-e7f3-4b65-9ebb-c8842ce8ed7e\">Pipeline</label><div class=\"sk-toggleable__content\"><pre>Pipeline(steps=[('countvectorizer',\n",
       "                 CountVectorizer(max_features=50000, ngram_range=(1, 3),\n",
       "                                 stop_words='english')),\n",
       "                ('logisticregression',\n",
       "                 LogisticRegression(max_iter=10000, penalty='none'))])</pre></div></div></div><div class=\"sk-serial\"><div class=\"sk-item\"><div class=\"sk-estimator sk-toggleable\"><input class=\"sk-toggleable__control sk-hidden--visually\" id=\"f2824739-5911-4542-92dc-29a3b8aafa82\" type=\"checkbox\" ><label class=\"sk-toggleable__label\" for=\"f2824739-5911-4542-92dc-29a3b8aafa82\">CountVectorizer</label><div class=\"sk-toggleable__content\"><pre>CountVectorizer(max_features=50000, ngram_range=(1, 3), stop_words='english')</pre></div></div></div><div class=\"sk-item\"><div class=\"sk-estimator sk-toggleable\"><input class=\"sk-toggleable__control sk-hidden--visually\" id=\"ce67ba5e-d560-4b7c-a07a-40bf4b2fc449\" type=\"checkbox\" ><label class=\"sk-toggleable__label\" for=\"ce67ba5e-d560-4b7c-a07a-40bf4b2fc449\">LogisticRegression</label><div class=\"sk-toggleable__content\"><pre>LogisticRegression(max_iter=10000, penalty='none')</pre></div></div></div></div></div></div></div>"
      ],
      "text/plain": [
       "Pipeline(steps=[('countvectorizer',\n",
       "                 CountVectorizer(max_features=50000, ngram_range=(1, 3),\n",
       "                                 stop_words='english')),\n",
       "                ('logisticregression',\n",
       "                 LogisticRegression(max_iter=10000, penalty='none'))])"
      ]
     },
     "execution_count": 23,
     "metadata": {},
     "output_type": "execute_result"
    }
   ],
   "source": [
    "cvect_pipe = make_pipeline(CountVectorizer(stop_words = 'english', max_features = 50_000,  ngram_range=(1, 3)),\n",
    "                           LogisticRegression(max_iter=10_000, penalty=\"none\"))\n",
    "\n",
    "\n",
    "cvect_pipe.fit(X_train, y_train)"
   ]
  },
  {
   "cell_type": "code",
   "execution_count": 24,
   "metadata": {},
   "outputs": [
    {
     "data": {
      "text/plain": [
       "0.9946666666666667"
      ]
     },
     "execution_count": 24,
     "metadata": {},
     "output_type": "execute_result"
    }
   ],
   "source": [
    "cvect_pipe.score(X_train, y_train)"
   ]
  },
  {
   "cell_type": "code",
   "execution_count": 25,
   "metadata": {},
   "outputs": [
    {
     "data": {
      "text/plain": [
       "0.66"
      ]
     },
     "execution_count": 25,
     "metadata": {},
     "output_type": "execute_result"
    }
   ],
   "source": [
    "cvect_pipe.score(X_test, y_test)"
   ]
  },
  {
   "cell_type": "code",
   "execution_count": null,
   "metadata": {},
   "outputs": [],
   "source": []
  },
  {
   "cell_type": "markdown",
   "metadata": {},
   "source": [
    "# Random Forest with subjectivity and polarity"
   ]
  },
  {
   "cell_type": "code",
   "execution_count": 26,
   "metadata": {},
   "outputs": [],
   "source": [
    "df = pd.read_csv('./data/titles_sentiment.csv')"
   ]
  },
  {
   "cell_type": "code",
   "execution_count": 27,
   "metadata": {},
   "outputs": [],
   "source": [
    "X = df[[\n",
    "    'title', \n",
    "        'polarity', 'subjectivity']]\n",
    "y = df['subreddit']"
   ]
  },
  {
   "cell_type": "code",
   "execution_count": 28,
   "metadata": {},
   "outputs": [
    {
     "data": {
      "text/plain": [
       "(1000,)"
      ]
     },
     "execution_count": 28,
     "metadata": {},
     "output_type": "execute_result"
    }
   ],
   "source": [
    "y.shape"
   ]
  },
  {
   "cell_type": "code",
   "execution_count": 29,
   "metadata": {},
   "outputs": [],
   "source": [
    "vectorizer = CountVectorizer( max_features = 20_000)"
   ]
  },
  {
   "cell_type": "code",
   "execution_count": 30,
   "metadata": {},
   "outputs": [],
   "source": [
    "X_train, X_test, y_train, y_test = train_test_split(X,y, random_state=123)"
   ]
  },
  {
   "cell_type": "code",
   "execution_count": 31,
   "metadata": {},
   "outputs": [],
   "source": [
    "preprocess = make_column_transformer(\n",
    "    (TfidfVectorizer(stop_words = 'english', max_features = 5_000), 'title'), \n",
    "                                     remainder='passthrough')"
   ]
  },
  {
   "cell_type": "code",
   "execution_count": 32,
   "metadata": {},
   "outputs": [],
   "source": [
    "forest_pipe = make_pipeline(preprocess,\n",
    "    RandomForestClassifier(n_estimators = 1000, random_state=123))"
   ]
  },
  {
   "cell_type": "code",
   "execution_count": 33,
   "metadata": {},
   "outputs": [
    {
     "data": {
      "text/html": [
       "<style>#sk-17b40250-4fe8-41ee-95f5-8b0bd2014937 {color: black;background-color: white;}#sk-17b40250-4fe8-41ee-95f5-8b0bd2014937 pre{padding: 0;}#sk-17b40250-4fe8-41ee-95f5-8b0bd2014937 div.sk-toggleable {background-color: white;}#sk-17b40250-4fe8-41ee-95f5-8b0bd2014937 label.sk-toggleable__label {cursor: pointer;display: block;width: 100%;margin-bottom: 0;padding: 0.3em;box-sizing: border-box;text-align: center;}#sk-17b40250-4fe8-41ee-95f5-8b0bd2014937 div.sk-toggleable__content {max-height: 0;max-width: 0;overflow: hidden;text-align: left;background-color: #f0f8ff;}#sk-17b40250-4fe8-41ee-95f5-8b0bd2014937 div.sk-toggleable__content pre {margin: 0.2em;color: black;border-radius: 0.25em;background-color: #f0f8ff;}#sk-17b40250-4fe8-41ee-95f5-8b0bd2014937 input.sk-toggleable__control:checked~div.sk-toggleable__content {max-height: 200px;max-width: 100%;overflow: auto;}#sk-17b40250-4fe8-41ee-95f5-8b0bd2014937 div.sk-estimator input.sk-toggleable__control:checked~label.sk-toggleable__label {background-color: #d4ebff;}#sk-17b40250-4fe8-41ee-95f5-8b0bd2014937 div.sk-label input.sk-toggleable__control:checked~label.sk-toggleable__label {background-color: #d4ebff;}#sk-17b40250-4fe8-41ee-95f5-8b0bd2014937 input.sk-hidden--visually {border: 0;clip: rect(1px 1px 1px 1px);clip: rect(1px, 1px, 1px, 1px);height: 1px;margin: -1px;overflow: hidden;padding: 0;position: absolute;width: 1px;}#sk-17b40250-4fe8-41ee-95f5-8b0bd2014937 div.sk-estimator {font-family: monospace;background-color: #f0f8ff;border: 1px dotted black;border-radius: 0.25em;box-sizing: border-box;margin-bottom: 0.5em;}#sk-17b40250-4fe8-41ee-95f5-8b0bd2014937 div.sk-estimator:hover {background-color: #d4ebff;}#sk-17b40250-4fe8-41ee-95f5-8b0bd2014937 div.sk-parallel-item::after {content: \"\";width: 100%;border-bottom: 1px solid gray;flex-grow: 1;}#sk-17b40250-4fe8-41ee-95f5-8b0bd2014937 div.sk-label:hover label.sk-toggleable__label {background-color: #d4ebff;}#sk-17b40250-4fe8-41ee-95f5-8b0bd2014937 div.sk-serial::before {content: \"\";position: absolute;border-left: 1px solid gray;box-sizing: border-box;top: 2em;bottom: 0;left: 50%;}#sk-17b40250-4fe8-41ee-95f5-8b0bd2014937 div.sk-serial {display: flex;flex-direction: column;align-items: center;background-color: white;padding-right: 0.2em;padding-left: 0.2em;}#sk-17b40250-4fe8-41ee-95f5-8b0bd2014937 div.sk-item {z-index: 1;}#sk-17b40250-4fe8-41ee-95f5-8b0bd2014937 div.sk-parallel {display: flex;align-items: stretch;justify-content: center;background-color: white;}#sk-17b40250-4fe8-41ee-95f5-8b0bd2014937 div.sk-parallel::before {content: \"\";position: absolute;border-left: 1px solid gray;box-sizing: border-box;top: 2em;bottom: 0;left: 50%;}#sk-17b40250-4fe8-41ee-95f5-8b0bd2014937 div.sk-parallel-item {display: flex;flex-direction: column;position: relative;background-color: white;}#sk-17b40250-4fe8-41ee-95f5-8b0bd2014937 div.sk-parallel-item:first-child::after {align-self: flex-end;width: 50%;}#sk-17b40250-4fe8-41ee-95f5-8b0bd2014937 div.sk-parallel-item:last-child::after {align-self: flex-start;width: 50%;}#sk-17b40250-4fe8-41ee-95f5-8b0bd2014937 div.sk-parallel-item:only-child::after {width: 0;}#sk-17b40250-4fe8-41ee-95f5-8b0bd2014937 div.sk-dashed-wrapped {border: 1px dashed gray;margin: 0 0.4em 0.5em 0.4em;box-sizing: border-box;padding-bottom: 0.4em;background-color: white;position: relative;}#sk-17b40250-4fe8-41ee-95f5-8b0bd2014937 div.sk-label label {font-family: monospace;font-weight: bold;background-color: white;display: inline-block;line-height: 1.2em;}#sk-17b40250-4fe8-41ee-95f5-8b0bd2014937 div.sk-label-container {position: relative;z-index: 2;text-align: center;}#sk-17b40250-4fe8-41ee-95f5-8b0bd2014937 div.sk-container {display: inline-block;position: relative;}</style><div id=\"sk-17b40250-4fe8-41ee-95f5-8b0bd2014937\" class\"sk-top-container\"><div class=\"sk-container\"><div class=\"sk-item sk-dashed-wrapped\"><div class=\"sk-label-container\"><div class=\"sk-label sk-toggleable\"><input class=\"sk-toggleable__control sk-hidden--visually\" id=\"fb902cfd-586d-4997-abe0-0790251d2129\" type=\"checkbox\" ><label class=\"sk-toggleable__label\" for=\"fb902cfd-586d-4997-abe0-0790251d2129\">Pipeline</label><div class=\"sk-toggleable__content\"><pre>Pipeline(steps=[('columntransformer',\n",
       "                 ColumnTransformer(remainder='passthrough',\n",
       "                                   transformers=[('tfidfvectorizer',\n",
       "                                                  TfidfVectorizer(max_features=5000,\n",
       "                                                                  stop_words='english'),\n",
       "                                                  'title')])),\n",
       "                ('randomforestclassifier',\n",
       "                 RandomForestClassifier(n_estimators=1000, random_state=123))])</pre></div></div></div><div class=\"sk-serial\"><div class=\"sk-item sk-dashed-wrapped\"><div class=\"sk-label-container\"><div class=\"sk-label sk-toggleable\"><input class=\"sk-toggleable__control sk-hidden--visually\" id=\"79d0006a-c837-4bba-a952-ac039b77ffea\" type=\"checkbox\" ><label class=\"sk-toggleable__label\" for=\"79d0006a-c837-4bba-a952-ac039b77ffea\">columntransformer: ColumnTransformer</label><div class=\"sk-toggleable__content\"><pre>ColumnTransformer(remainder='passthrough',\n",
       "                  transformers=[('tfidfvectorizer',\n",
       "                                 TfidfVectorizer(max_features=5000,\n",
       "                                                 stop_words='english'),\n",
       "                                 'title')])</pre></div></div></div><div class=\"sk-parallel\"><div class=\"sk-parallel-item\"><div class=\"sk-item\"><div class=\"sk-label-container\"><div class=\"sk-label sk-toggleable\"><input class=\"sk-toggleable__control sk-hidden--visually\" id=\"9d11918c-a361-4f99-8e5b-5a558e18a1b0\" type=\"checkbox\" ><label class=\"sk-toggleable__label\" for=\"9d11918c-a361-4f99-8e5b-5a558e18a1b0\">tfidfvectorizer</label><div class=\"sk-toggleable__content\"><pre>title</pre></div></div></div><div class=\"sk-serial\"><div class=\"sk-item\"><div class=\"sk-estimator sk-toggleable\"><input class=\"sk-toggleable__control sk-hidden--visually\" id=\"a454b8e5-0cc4-4a40-a378-cd5864e08a33\" type=\"checkbox\" ><label class=\"sk-toggleable__label\" for=\"a454b8e5-0cc4-4a40-a378-cd5864e08a33\">TfidfVectorizer</label><div class=\"sk-toggleable__content\"><pre>TfidfVectorizer(max_features=5000, stop_words='english')</pre></div></div></div></div></div></div><div class=\"sk-parallel-item\"><div class=\"sk-item\"><div class=\"sk-label-container\"><div class=\"sk-label sk-toggleable\"><input class=\"sk-toggleable__control sk-hidden--visually\" id=\"7b605ef2-e974-40ad-93e9-147ce0771142\" type=\"checkbox\" ><label class=\"sk-toggleable__label\" for=\"7b605ef2-e974-40ad-93e9-147ce0771142\">remainder</label><div class=\"sk-toggleable__content\"><pre>['polarity', 'subjectivity']</pre></div></div></div><div class=\"sk-serial\"><div class=\"sk-item\"><div class=\"sk-estimator sk-toggleable\"><input class=\"sk-toggleable__control sk-hidden--visually\" id=\"3c273cbd-06a9-45b3-a1c6-eb1bd64891b0\" type=\"checkbox\" ><label class=\"sk-toggleable__label\" for=\"3c273cbd-06a9-45b3-a1c6-eb1bd64891b0\">passthrough</label><div class=\"sk-toggleable__content\"><pre>passthrough</pre></div></div></div></div></div></div></div></div><div class=\"sk-item\"><div class=\"sk-estimator sk-toggleable\"><input class=\"sk-toggleable__control sk-hidden--visually\" id=\"b633d896-25aa-43fe-ab60-c5d73cc25c7b\" type=\"checkbox\" ><label class=\"sk-toggleable__label\" for=\"b633d896-25aa-43fe-ab60-c5d73cc25c7b\">RandomForestClassifier</label><div class=\"sk-toggleable__content\"><pre>RandomForestClassifier(n_estimators=1000, random_state=123)</pre></div></div></div></div></div></div></div>"
      ],
      "text/plain": [
       "Pipeline(steps=[('columntransformer',\n",
       "                 ColumnTransformer(remainder='passthrough',\n",
       "                                   transformers=[('tfidfvectorizer',\n",
       "                                                  TfidfVectorizer(max_features=5000,\n",
       "                                                                  stop_words='english'),\n",
       "                                                  'title')])),\n",
       "                ('randomforestclassifier',\n",
       "                 RandomForestClassifier(n_estimators=1000, random_state=123))])"
      ]
     },
     "execution_count": 33,
     "metadata": {},
     "output_type": "execute_result"
    }
   ],
   "source": [
    "forest_pipe.fit(X_train, y_train)"
   ]
  },
  {
   "cell_type": "code",
   "execution_count": 34,
   "metadata": {},
   "outputs": [
    {
     "data": {
      "text/plain": [
       "0.676"
      ]
     },
     "execution_count": 34,
     "metadata": {},
     "output_type": "execute_result"
    }
   ],
   "source": [
    "forest_pipe.score(X_test, y_test)"
   ]
  },
  {
   "cell_type": "code",
   "execution_count": null,
   "metadata": {},
   "outputs": [],
   "source": []
  },
  {
   "cell_type": "markdown",
   "metadata": {},
   "source": [
    "# Stem with polarity and subjectivity  "
   ]
  },
  {
   "cell_type": "code",
   "execution_count": 35,
   "metadata": {},
   "outputs": [],
   "source": [
    "def stem_sentence(sentence):\n",
    "    p_stemmer = PorterStemmer()\n",
    "\n",
    "    split_sentence = sentence.split(' ')\n",
    "\n",
    "    return [p_stemmer.stem(word) for word in split_sentence]"
   ]
  },
  {
   "cell_type": "code",
   "execution_count": 36,
   "metadata": {},
   "outputs": [],
   "source": [
    "df = pd.read_csv('./data/titles_len.csv')"
   ]
  },
  {
   "cell_type": "code",
   "execution_count": 37,
   "metadata": {},
   "outputs": [],
   "source": [
    "X = df[\n",
    "    'title'\n",
    "        ]\n",
    "y = df['subreddit']"
   ]
  },
  {
   "cell_type": "code",
   "execution_count": 38,
   "metadata": {},
   "outputs": [],
   "source": [
    "X_lem = X.map(lem_sentence)\n",
    "X_lem = [' '.join(map(str, l)) for l in X_lem]"
   ]
  },
  {
   "cell_type": "code",
   "execution_count": 39,
   "metadata": {},
   "outputs": [],
   "source": [
    "X_lem_df = pd.DataFrame(X_lem)"
   ]
  },
  {
   "cell_type": "code",
   "execution_count": 40,
   "metadata": {},
   "outputs": [],
   "source": [
    "X_extra = df[['polarity', 'subjectivity', 'title_len']]"
   ]
  },
  {
   "cell_type": "code",
   "execution_count": 41,
   "metadata": {},
   "outputs": [],
   "source": [
    "X_new = pd.concat([X_extra, X_lem_df], axis = 1)"
   ]
  },
  {
   "cell_type": "code",
   "execution_count": 42,
   "metadata": {},
   "outputs": [],
   "source": [
    "X_new.rename(columns={0:'title'}, inplace = True)"
   ]
  },
  {
   "cell_type": "code",
   "execution_count": 43,
   "metadata": {},
   "outputs": [],
   "source": [
    "X_train, X_test, y_train, y_test = train_test_split(X_new,y, random_state=123)"
   ]
  },
  {
   "cell_type": "code",
   "execution_count": 44,
   "metadata": {},
   "outputs": [],
   "source": [
    "preprocess = make_column_transformer(\n",
    "    (TfidfVectorizer(max_features = 5_000, ngram_range=(1, 1)), 'title'),\n",
    "                                     remainder='passthrough')"
   ]
  },
  {
   "cell_type": "code",
   "execution_count": 45,
   "metadata": {},
   "outputs": [],
   "source": [
    "forest_pipe = make_pipeline(preprocess,\n",
    "    LogisticRegression())"
   ]
  },
  {
   "cell_type": "code",
   "execution_count": 46,
   "metadata": {},
   "outputs": [
    {
     "name": "stderr",
     "output_type": "stream",
     "text": [
      "/Users/SeanMcNamara/opt/anaconda3/lib/python3.7/site-packages/sklearn/linear_model/_logistic.py:818: ConvergenceWarning: lbfgs failed to converge (status=1):\n",
      "STOP: TOTAL NO. of ITERATIONS REACHED LIMIT.\n",
      "\n",
      "Increase the number of iterations (max_iter) or scale the data as shown in:\n",
      "    https://scikit-learn.org/stable/modules/preprocessing.html\n",
      "Please also refer to the documentation for alternative solver options:\n",
      "    https://scikit-learn.org/stable/modules/linear_model.html#logistic-regression\n",
      "  extra_warning_msg=_LOGISTIC_SOLVER_CONVERGENCE_MSG,\n"
     ]
    },
    {
     "data": {
      "text/html": [
       "<style>#sk-a43bf54e-8e80-41d9-b5c6-fb10fd441622 {color: black;background-color: white;}#sk-a43bf54e-8e80-41d9-b5c6-fb10fd441622 pre{padding: 0;}#sk-a43bf54e-8e80-41d9-b5c6-fb10fd441622 div.sk-toggleable {background-color: white;}#sk-a43bf54e-8e80-41d9-b5c6-fb10fd441622 label.sk-toggleable__label {cursor: pointer;display: block;width: 100%;margin-bottom: 0;padding: 0.3em;box-sizing: border-box;text-align: center;}#sk-a43bf54e-8e80-41d9-b5c6-fb10fd441622 div.sk-toggleable__content {max-height: 0;max-width: 0;overflow: hidden;text-align: left;background-color: #f0f8ff;}#sk-a43bf54e-8e80-41d9-b5c6-fb10fd441622 div.sk-toggleable__content pre {margin: 0.2em;color: black;border-radius: 0.25em;background-color: #f0f8ff;}#sk-a43bf54e-8e80-41d9-b5c6-fb10fd441622 input.sk-toggleable__control:checked~div.sk-toggleable__content {max-height: 200px;max-width: 100%;overflow: auto;}#sk-a43bf54e-8e80-41d9-b5c6-fb10fd441622 div.sk-estimator input.sk-toggleable__control:checked~label.sk-toggleable__label {background-color: #d4ebff;}#sk-a43bf54e-8e80-41d9-b5c6-fb10fd441622 div.sk-label input.sk-toggleable__control:checked~label.sk-toggleable__label {background-color: #d4ebff;}#sk-a43bf54e-8e80-41d9-b5c6-fb10fd441622 input.sk-hidden--visually {border: 0;clip: rect(1px 1px 1px 1px);clip: rect(1px, 1px, 1px, 1px);height: 1px;margin: -1px;overflow: hidden;padding: 0;position: absolute;width: 1px;}#sk-a43bf54e-8e80-41d9-b5c6-fb10fd441622 div.sk-estimator {font-family: monospace;background-color: #f0f8ff;border: 1px dotted black;border-radius: 0.25em;box-sizing: border-box;margin-bottom: 0.5em;}#sk-a43bf54e-8e80-41d9-b5c6-fb10fd441622 div.sk-estimator:hover {background-color: #d4ebff;}#sk-a43bf54e-8e80-41d9-b5c6-fb10fd441622 div.sk-parallel-item::after {content: \"\";width: 100%;border-bottom: 1px solid gray;flex-grow: 1;}#sk-a43bf54e-8e80-41d9-b5c6-fb10fd441622 div.sk-label:hover label.sk-toggleable__label {background-color: #d4ebff;}#sk-a43bf54e-8e80-41d9-b5c6-fb10fd441622 div.sk-serial::before {content: \"\";position: absolute;border-left: 1px solid gray;box-sizing: border-box;top: 2em;bottom: 0;left: 50%;}#sk-a43bf54e-8e80-41d9-b5c6-fb10fd441622 div.sk-serial {display: flex;flex-direction: column;align-items: center;background-color: white;padding-right: 0.2em;padding-left: 0.2em;}#sk-a43bf54e-8e80-41d9-b5c6-fb10fd441622 div.sk-item {z-index: 1;}#sk-a43bf54e-8e80-41d9-b5c6-fb10fd441622 div.sk-parallel {display: flex;align-items: stretch;justify-content: center;background-color: white;}#sk-a43bf54e-8e80-41d9-b5c6-fb10fd441622 div.sk-parallel::before {content: \"\";position: absolute;border-left: 1px solid gray;box-sizing: border-box;top: 2em;bottom: 0;left: 50%;}#sk-a43bf54e-8e80-41d9-b5c6-fb10fd441622 div.sk-parallel-item {display: flex;flex-direction: column;position: relative;background-color: white;}#sk-a43bf54e-8e80-41d9-b5c6-fb10fd441622 div.sk-parallel-item:first-child::after {align-self: flex-end;width: 50%;}#sk-a43bf54e-8e80-41d9-b5c6-fb10fd441622 div.sk-parallel-item:last-child::after {align-self: flex-start;width: 50%;}#sk-a43bf54e-8e80-41d9-b5c6-fb10fd441622 div.sk-parallel-item:only-child::after {width: 0;}#sk-a43bf54e-8e80-41d9-b5c6-fb10fd441622 div.sk-dashed-wrapped {border: 1px dashed gray;margin: 0 0.4em 0.5em 0.4em;box-sizing: border-box;padding-bottom: 0.4em;background-color: white;position: relative;}#sk-a43bf54e-8e80-41d9-b5c6-fb10fd441622 div.sk-label label {font-family: monospace;font-weight: bold;background-color: white;display: inline-block;line-height: 1.2em;}#sk-a43bf54e-8e80-41d9-b5c6-fb10fd441622 div.sk-label-container {position: relative;z-index: 2;text-align: center;}#sk-a43bf54e-8e80-41d9-b5c6-fb10fd441622 div.sk-container {display: inline-block;position: relative;}</style><div id=\"sk-a43bf54e-8e80-41d9-b5c6-fb10fd441622\" class\"sk-top-container\"><div class=\"sk-container\"><div class=\"sk-item sk-dashed-wrapped\"><div class=\"sk-label-container\"><div class=\"sk-label sk-toggleable\"><input class=\"sk-toggleable__control sk-hidden--visually\" id=\"9bcc8582-7f52-4bed-8347-0b65ce95ca95\" type=\"checkbox\" ><label class=\"sk-toggleable__label\" for=\"9bcc8582-7f52-4bed-8347-0b65ce95ca95\">Pipeline</label><div class=\"sk-toggleable__content\"><pre>Pipeline(steps=[('columntransformer',\n",
       "                 ColumnTransformer(remainder='passthrough',\n",
       "                                   transformers=[('tfidfvectorizer',\n",
       "                                                  TfidfVectorizer(max_features=5000),\n",
       "                                                  'title')])),\n",
       "                ('logisticregression', LogisticRegression())])</pre></div></div></div><div class=\"sk-serial\"><div class=\"sk-item sk-dashed-wrapped\"><div class=\"sk-label-container\"><div class=\"sk-label sk-toggleable\"><input class=\"sk-toggleable__control sk-hidden--visually\" id=\"ca3f1bd6-d072-450c-9cef-a3ac83521766\" type=\"checkbox\" ><label class=\"sk-toggleable__label\" for=\"ca3f1bd6-d072-450c-9cef-a3ac83521766\">columntransformer: ColumnTransformer</label><div class=\"sk-toggleable__content\"><pre>ColumnTransformer(remainder='passthrough',\n",
       "                  transformers=[('tfidfvectorizer',\n",
       "                                 TfidfVectorizer(max_features=5000), 'title')])</pre></div></div></div><div class=\"sk-parallel\"><div class=\"sk-parallel-item\"><div class=\"sk-item\"><div class=\"sk-label-container\"><div class=\"sk-label sk-toggleable\"><input class=\"sk-toggleable__control sk-hidden--visually\" id=\"fc215478-52af-40ec-b57b-26236ede02be\" type=\"checkbox\" ><label class=\"sk-toggleable__label\" for=\"fc215478-52af-40ec-b57b-26236ede02be\">tfidfvectorizer</label><div class=\"sk-toggleable__content\"><pre>title</pre></div></div></div><div class=\"sk-serial\"><div class=\"sk-item\"><div class=\"sk-estimator sk-toggleable\"><input class=\"sk-toggleable__control sk-hidden--visually\" id=\"5be26026-905f-4db0-bce3-9d9d10aa7480\" type=\"checkbox\" ><label class=\"sk-toggleable__label\" for=\"5be26026-905f-4db0-bce3-9d9d10aa7480\">TfidfVectorizer</label><div class=\"sk-toggleable__content\"><pre>TfidfVectorizer(max_features=5000)</pre></div></div></div></div></div></div><div class=\"sk-parallel-item\"><div class=\"sk-item\"><div class=\"sk-label-container\"><div class=\"sk-label sk-toggleable\"><input class=\"sk-toggleable__control sk-hidden--visually\" id=\"8bd20f2b-098f-48c8-b0ce-0a0a9275a296\" type=\"checkbox\" ><label class=\"sk-toggleable__label\" for=\"8bd20f2b-098f-48c8-b0ce-0a0a9275a296\">remainder</label><div class=\"sk-toggleable__content\"><pre>['polarity', 'subjectivity', 'title_len']</pre></div></div></div><div class=\"sk-serial\"><div class=\"sk-item\"><div class=\"sk-estimator sk-toggleable\"><input class=\"sk-toggleable__control sk-hidden--visually\" id=\"f3d3f2ac-4b28-48cc-a383-2dd4a36941e3\" type=\"checkbox\" ><label class=\"sk-toggleable__label\" for=\"f3d3f2ac-4b28-48cc-a383-2dd4a36941e3\">passthrough</label><div class=\"sk-toggleable__content\"><pre>passthrough</pre></div></div></div></div></div></div></div></div><div class=\"sk-item\"><div class=\"sk-estimator sk-toggleable\"><input class=\"sk-toggleable__control sk-hidden--visually\" id=\"41d11d43-0979-4d3a-9604-ebf021708ac0\" type=\"checkbox\" ><label class=\"sk-toggleable__label\" for=\"41d11d43-0979-4d3a-9604-ebf021708ac0\">LogisticRegression</label><div class=\"sk-toggleable__content\"><pre>LogisticRegression()</pre></div></div></div></div></div></div></div>"
      ],
      "text/plain": [
       "Pipeline(steps=[('columntransformer',\n",
       "                 ColumnTransformer(remainder='passthrough',\n",
       "                                   transformers=[('tfidfvectorizer',\n",
       "                                                  TfidfVectorizer(max_features=5000),\n",
       "                                                  'title')])),\n",
       "                ('logisticregression', LogisticRegression())])"
      ]
     },
     "execution_count": 46,
     "metadata": {},
     "output_type": "execute_result"
    }
   ],
   "source": [
    "forest_pipe.fit(X_train, y_train)"
   ]
  },
  {
   "cell_type": "code",
   "execution_count": 47,
   "metadata": {},
   "outputs": [
    {
     "data": {
      "text/plain": [
       "0.864"
      ]
     },
     "execution_count": 47,
     "metadata": {},
     "output_type": "execute_result"
    }
   ],
   "source": [
    "forest_pipe.score(X_train, y_train)"
   ]
  },
  {
   "cell_type": "code",
   "execution_count": 48,
   "metadata": {},
   "outputs": [
    {
     "data": {
      "text/plain": [
       "0.62"
      ]
     },
     "execution_count": 48,
     "metadata": {},
     "output_type": "execute_result"
    }
   ],
   "source": [
    "forest_pipe.score(X_test, y_test)"
   ]
  }
 ],
 "metadata": {
  "kernelspec": {
   "display_name": "Python 3",
   "language": "python",
   "name": "python3"
  },
  "language_info": {
   "codemirror_mode": {
    "name": "ipython",
    "version": 3
   },
   "file_extension": ".py",
   "mimetype": "text/x-python",
   "name": "python",
   "nbconvert_exporter": "python",
   "pygments_lexer": "ipython3",
   "version": "3.7.6"
  }
 },
 "nbformat": 4,
 "nbformat_minor": 4
}
