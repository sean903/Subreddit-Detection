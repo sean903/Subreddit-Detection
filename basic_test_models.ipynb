{
 "cells": [
  {
   "cell_type": "code",
   "execution_count": 118,
   "metadata": {},
   "outputs": [],
   "source": [
    "# ALL The Imports:\n",
    "\n",
    "import pandas as pd\n",
    "import numpy as np\n",
    "from imblearn.pipeline import make_pipeline\n",
    "from imblearn.over_sampling import RandomOverSampler, SMOTE, ADASYN, SMOTENC\n",
    "import time\n",
    "from nltk.tokenize import sent_tokenize, word_tokenize, RegexpTokenizer\n",
    "from nltk.corpus import stopwords\n",
    "from nltk.stem import WordNetLemmatizer\n",
    "import nltk\n",
    "from textblob import TextBlob\n",
    "import json\n",
    "\n",
    "# SKlearn imports:\n",
    "from sklearn.feature_extraction.text import CountVectorizer, TfidfVectorizer\n",
    "from sklearn.feature_selection import RFE\n",
    "from sklearn.model_selection import train_test_split, GridSearchCV, cross_val_score\n",
    "from sklearn.linear_model import LinearRegression, Ridge, Lasso, LogisticRegression\n",
    "from sklearn.metrics import mean_squared_error, mean_absolute_error, r2_score, f1_score, balanced_accuracy_score, RocCurveDisplay, recall_score, precision_score, recall_score, accuracy_score, ConfusionMatrixDisplay, roc_auc_score, precision_score, confusion_matrix\n",
    "from sklearn.compose import make_column_transformer, make_column_selector\n",
    "from sklearn.neighbors import NearestNeighbors, KNeighborsClassifier, KNeighborsRegressor\n",
    "from sklearn.pipeline import make_pipeline\n",
    "from sklearn.impute import KNNImputer, SimpleImputer\n",
    "from sklearn.preprocessing import StandardScaler, OneHotEncoder, PolynomialFeatures\n",
    "from sklearn.tree import DecisionTreeRegressor, plot_tree, DecisionTreeClassifier\n",
    "from sklearn import set_config\n",
    "from sklearn.naive_bayes import GaussianNB, MultinomialNB\n",
    "set_config(display = 'diagram')\n",
    "from sklearn.ensemble import BaggingClassifier, RandomForestClassifier, ExtraTreesClassifier, VotingClassifier, BaggingRegressor,  RandomForestRegressor"
   ]
  },
  {
   "cell_type": "code",
   "execution_count": 2,
   "metadata": {},
   "outputs": [],
   "source": [
    "df = pd.read_csv('./data/titles.csv')"
   ]
  },
  {
   "cell_type": "markdown",
   "metadata": {},
   "source": [
    "# Logistic regression from the title"
   ]
  },
  {
   "cell_type": "code",
   "execution_count": 14,
   "metadata": {},
   "outputs": [],
   "source": [
    "X = df['title']\n",
    "y = df['subreddit']"
   ]
  },
  {
   "cell_type": "code",
   "execution_count": 15,
   "metadata": {},
   "outputs": [],
   "source": [
    "X_train, X_test, y_train, y_test = train_test_split(X,y, random_state=123)"
   ]
  },
  {
   "cell_type": "code",
   "execution_count": 24,
   "metadata": {},
   "outputs": [
    {
     "data": {
      "text/html": [
       "<style>#sk-2ee03071-9980-46c1-ac74-16ca2e295cfb {color: black;background-color: white;}#sk-2ee03071-9980-46c1-ac74-16ca2e295cfb pre{padding: 0;}#sk-2ee03071-9980-46c1-ac74-16ca2e295cfb div.sk-toggleable {background-color: white;}#sk-2ee03071-9980-46c1-ac74-16ca2e295cfb label.sk-toggleable__label {cursor: pointer;display: block;width: 100%;margin-bottom: 0;padding: 0.3em;box-sizing: border-box;text-align: center;}#sk-2ee03071-9980-46c1-ac74-16ca2e295cfb div.sk-toggleable__content {max-height: 0;max-width: 0;overflow: hidden;text-align: left;background-color: #f0f8ff;}#sk-2ee03071-9980-46c1-ac74-16ca2e295cfb div.sk-toggleable__content pre {margin: 0.2em;color: black;border-radius: 0.25em;background-color: #f0f8ff;}#sk-2ee03071-9980-46c1-ac74-16ca2e295cfb input.sk-toggleable__control:checked~div.sk-toggleable__content {max-height: 200px;max-width: 100%;overflow: auto;}#sk-2ee03071-9980-46c1-ac74-16ca2e295cfb div.sk-estimator input.sk-toggleable__control:checked~label.sk-toggleable__label {background-color: #d4ebff;}#sk-2ee03071-9980-46c1-ac74-16ca2e295cfb div.sk-label input.sk-toggleable__control:checked~label.sk-toggleable__label {background-color: #d4ebff;}#sk-2ee03071-9980-46c1-ac74-16ca2e295cfb input.sk-hidden--visually {border: 0;clip: rect(1px 1px 1px 1px);clip: rect(1px, 1px, 1px, 1px);height: 1px;margin: -1px;overflow: hidden;padding: 0;position: absolute;width: 1px;}#sk-2ee03071-9980-46c1-ac74-16ca2e295cfb div.sk-estimator {font-family: monospace;background-color: #f0f8ff;border: 1px dotted black;border-radius: 0.25em;box-sizing: border-box;margin-bottom: 0.5em;}#sk-2ee03071-9980-46c1-ac74-16ca2e295cfb div.sk-estimator:hover {background-color: #d4ebff;}#sk-2ee03071-9980-46c1-ac74-16ca2e295cfb div.sk-parallel-item::after {content: \"\";width: 100%;border-bottom: 1px solid gray;flex-grow: 1;}#sk-2ee03071-9980-46c1-ac74-16ca2e295cfb div.sk-label:hover label.sk-toggleable__label {background-color: #d4ebff;}#sk-2ee03071-9980-46c1-ac74-16ca2e295cfb div.sk-serial::before {content: \"\";position: absolute;border-left: 1px solid gray;box-sizing: border-box;top: 2em;bottom: 0;left: 50%;}#sk-2ee03071-9980-46c1-ac74-16ca2e295cfb div.sk-serial {display: flex;flex-direction: column;align-items: center;background-color: white;padding-right: 0.2em;padding-left: 0.2em;}#sk-2ee03071-9980-46c1-ac74-16ca2e295cfb div.sk-item {z-index: 1;}#sk-2ee03071-9980-46c1-ac74-16ca2e295cfb div.sk-parallel {display: flex;align-items: stretch;justify-content: center;background-color: white;}#sk-2ee03071-9980-46c1-ac74-16ca2e295cfb div.sk-parallel::before {content: \"\";position: absolute;border-left: 1px solid gray;box-sizing: border-box;top: 2em;bottom: 0;left: 50%;}#sk-2ee03071-9980-46c1-ac74-16ca2e295cfb div.sk-parallel-item {display: flex;flex-direction: column;position: relative;background-color: white;}#sk-2ee03071-9980-46c1-ac74-16ca2e295cfb div.sk-parallel-item:first-child::after {align-self: flex-end;width: 50%;}#sk-2ee03071-9980-46c1-ac74-16ca2e295cfb div.sk-parallel-item:last-child::after {align-self: flex-start;width: 50%;}#sk-2ee03071-9980-46c1-ac74-16ca2e295cfb div.sk-parallel-item:only-child::after {width: 0;}#sk-2ee03071-9980-46c1-ac74-16ca2e295cfb div.sk-dashed-wrapped {border: 1px dashed gray;margin: 0 0.4em 0.5em 0.4em;box-sizing: border-box;padding-bottom: 0.4em;background-color: white;position: relative;}#sk-2ee03071-9980-46c1-ac74-16ca2e295cfb div.sk-label label {font-family: monospace;font-weight: bold;background-color: white;display: inline-block;line-height: 1.2em;}#sk-2ee03071-9980-46c1-ac74-16ca2e295cfb div.sk-label-container {position: relative;z-index: 2;text-align: center;}#sk-2ee03071-9980-46c1-ac74-16ca2e295cfb div.sk-container {display: inline-block;position: relative;}</style><div id=\"sk-2ee03071-9980-46c1-ac74-16ca2e295cfb\" class\"sk-top-container\"><div class=\"sk-container\"><div class=\"sk-item sk-dashed-wrapped\"><div class=\"sk-label-container\"><div class=\"sk-label sk-toggleable\"><input class=\"sk-toggleable__control sk-hidden--visually\" id=\"62cfdb2e-7f4a-4760-9778-75f96ca8d93e\" type=\"checkbox\" ><label class=\"sk-toggleable__label\" for=\"62cfdb2e-7f4a-4760-9778-75f96ca8d93e\">Pipeline</label><div class=\"sk-toggleable__content\"><pre>Pipeline(steps=[('countvectorizer',\n",
       "                 CountVectorizer(max_features=10000, stop_words='english')),\n",
       "                ('logisticregression',\n",
       "                 LogisticRegression(max_iter=1000, penalty='none'))])</pre></div></div></div><div class=\"sk-serial\"><div class=\"sk-item\"><div class=\"sk-estimator sk-toggleable\"><input class=\"sk-toggleable__control sk-hidden--visually\" id=\"9ed382ff-675b-47d3-937e-9bea8f6cb32a\" type=\"checkbox\" ><label class=\"sk-toggleable__label\" for=\"9ed382ff-675b-47d3-937e-9bea8f6cb32a\">CountVectorizer</label><div class=\"sk-toggleable__content\"><pre>CountVectorizer(max_features=10000, stop_words='english')</pre></div></div></div><div class=\"sk-item\"><div class=\"sk-estimator sk-toggleable\"><input class=\"sk-toggleable__control sk-hidden--visually\" id=\"518164b5-9d18-4d4f-ba15-6058ff502644\" type=\"checkbox\" ><label class=\"sk-toggleable__label\" for=\"518164b5-9d18-4d4f-ba15-6058ff502644\">LogisticRegression</label><div class=\"sk-toggleable__content\"><pre>LogisticRegression(max_iter=1000, penalty='none')</pre></div></div></div></div></div></div></div>"
      ],
      "text/plain": [
       "Pipeline(steps=[('countvectorizer',\n",
       "                 CountVectorizer(max_features=10000, stop_words='english')),\n",
       "                ('logisticregression',\n",
       "                 LogisticRegression(max_iter=1000, penalty='none'))])"
      ]
     },
     "execution_count": 24,
     "metadata": {},
     "output_type": "execute_result"
    }
   ],
   "source": [
    "# using stop words\n",
    "cvect_pipe = make_pipeline(CountVectorizer(stop_words = 'english', max_features = 1000),\n",
    "                           LogisticRegression(max_iter=1000, penalty=\"none\"))\n",
    "\n",
    "cvect_pipe.fit(X_train,y_train)"
   ]
  },
  {
   "cell_type": "code",
   "execution_count": 25,
   "metadata": {},
   "outputs": [
    {
     "data": {
      "text/plain": [
       "0.9946666666666667"
      ]
     },
     "execution_count": 25,
     "metadata": {},
     "output_type": "execute_result"
    }
   ],
   "source": [
    "cvect_pipe.score(X_train, y_train)"
   ]
  },
  {
   "cell_type": "code",
   "execution_count": 26,
   "metadata": {},
   "outputs": [
    {
     "data": {
      "text/plain": [
       "0.636"
      ]
     },
     "execution_count": 26,
     "metadata": {},
     "output_type": "execute_result"
    }
   ],
   "source": [
    "cvect_pipe.score(X_test, y_test)"
   ]
  },
  {
   "cell_type": "code",
   "execution_count": 29,
   "metadata": {},
   "outputs": [
    {
     "data": {
      "text/html": [
       "<div>\n",
       "<style scoped>\n",
       "    .dataframe tbody tr th:only-of-type {\n",
       "        vertical-align: middle;\n",
       "    }\n",
       "\n",
       "    .dataframe tbody tr th {\n",
       "        vertical-align: top;\n",
       "    }\n",
       "\n",
       "    .dataframe thead th {\n",
       "        text-align: right;\n",
       "    }\n",
       "</style>\n",
       "<table border=\"1\" class=\"dataframe\">\n",
       "  <thead>\n",
       "    <tr style=\"text-align: right;\">\n",
       "      <th></th>\n",
       "      <th>words</th>\n",
       "      <th>coefs</th>\n",
       "    </tr>\n",
       "  </thead>\n",
       "  <tbody>\n",
       "    <tr>\n",
       "      <th>1193</th>\n",
       "      <td>question</td>\n",
       "      <td>-188.030528</td>\n",
       "    </tr>\n",
       "    <tr>\n",
       "      <th>1216</th>\n",
       "      <td>rating</td>\n",
       "      <td>-181.721279</td>\n",
       "    </tr>\n",
       "    <tr>\n",
       "      <th>955</th>\n",
       "      <td>missed</td>\n",
       "      <td>-171.489736</td>\n",
       "    </tr>\n",
       "    <tr>\n",
       "      <th>194</th>\n",
       "      <td>beautiful</td>\n",
       "      <td>-158.545352</td>\n",
       "    </tr>\n",
       "    <tr>\n",
       "      <th>1483</th>\n",
       "      <td>tactics</td>\n",
       "      <td>-154.208119</td>\n",
       "    </tr>\n",
       "    <tr>\n",
       "      <th>229</th>\n",
       "      <td>books</td>\n",
       "      <td>-153.180771</td>\n",
       "    </tr>\n",
       "    <tr>\n",
       "      <th>527</th>\n",
       "      <td>equal</td>\n",
       "      <td>-152.586534</td>\n",
       "    </tr>\n",
       "    <tr>\n",
       "      <th>1187</th>\n",
       "      <td>puzzles</td>\n",
       "      <td>-148.289635</td>\n",
       "    </tr>\n",
       "    <tr>\n",
       "      <th>842</th>\n",
       "      <td>learning</td>\n",
       "      <td>-137.742809</td>\n",
       "    </tr>\n",
       "    <tr>\n",
       "      <th>33</th>\n",
       "      <td>2017</td>\n",
       "      <td>-136.248210</td>\n",
       "    </tr>\n",
       "    <tr>\n",
       "      <th>1217</th>\n",
       "      <td>ratings</td>\n",
       "      <td>-132.779632</td>\n",
       "    </tr>\n",
       "    <tr>\n",
       "      <th>493</th>\n",
       "      <td>early</td>\n",
       "      <td>-132.546385</td>\n",
       "    </tr>\n",
       "    <tr>\n",
       "      <th>1194</th>\n",
       "      <td>questions</td>\n",
       "      <td>-131.537432</td>\n",
       "    </tr>\n",
       "    <tr>\n",
       "      <th>1511</th>\n",
       "      <td>think</td>\n",
       "      <td>-125.300819</td>\n",
       "    </tr>\n",
       "    <tr>\n",
       "      <th>81</th>\n",
       "      <td>able</td>\n",
       "      <td>-124.811664</td>\n",
       "    </tr>\n",
       "  </tbody>\n",
       "</table>\n",
       "</div>"
      ],
      "text/plain": [
       "          words       coefs\n",
       "1193   question -188.030528\n",
       "1216     rating -181.721279\n",
       "955      missed -171.489736\n",
       "194   beautiful -158.545352\n",
       "1483    tactics -154.208119\n",
       "229       books -153.180771\n",
       "527       equal -152.586534\n",
       "1187    puzzles -148.289635\n",
       "842    learning -137.742809\n",
       "33         2017 -136.248210\n",
       "1217    ratings -132.779632\n",
       "493       early -132.546385\n",
       "1194  questions -131.537432\n",
       "1511      think -125.300819\n",
       "81         able -124.811664"
      ]
     },
     "execution_count": 29,
     "metadata": {},
     "output_type": "execute_result"
    }
   ],
   "source": [
    "# pulling coefs out of pipe\n",
    "\n",
    "coefs = cvect_pipe['logisticregression'].coef_\n",
    "\n",
    "word_coefs = pd.DataFrame({'words': cvect_pipe['countvectorizer'].get_feature_names_out(), \n",
    "              'coefs': coefs[0]})\n",
    "\n",
    "word_coefs.sort_values(by='coefs', ascending=True).head(15)"
   ]
  },
  {
   "cell_type": "code",
   "execution_count": 30,
   "metadata": {},
   "outputs": [
    {
     "data": {
      "text/html": [
       "<div>\n",
       "<style scoped>\n",
       "    .dataframe tbody tr th:only-of-type {\n",
       "        vertical-align: middle;\n",
       "    }\n",
       "\n",
       "    .dataframe tbody tr th {\n",
       "        vertical-align: top;\n",
       "    }\n",
       "\n",
       "    .dataframe thead th {\n",
       "        text-align: right;\n",
       "    }\n",
       "</style>\n",
       "<table border=\"1\" class=\"dataframe\">\n",
       "  <thead>\n",
       "    <tr style=\"text-align: right;\">\n",
       "      <th></th>\n",
       "      <th>words</th>\n",
       "      <th>coefs</th>\n",
       "    </tr>\n",
       "  </thead>\n",
       "  <tbody>\n",
       "    <tr>\n",
       "      <th>961</th>\n",
       "      <td>mom</td>\n",
       "      <td>194.095630</td>\n",
       "    </tr>\n",
       "    <tr>\n",
       "      <th>1367</th>\n",
       "      <td>simulated</td>\n",
       "      <td>187.982693</td>\n",
       "    </tr>\n",
       "    <tr>\n",
       "      <th>918</th>\n",
       "      <td>mates</td>\n",
       "      <td>154.951895</td>\n",
       "    </tr>\n",
       "    <tr>\n",
       "      <th>62</th>\n",
       "      <td>50</td>\n",
       "      <td>154.911009</td>\n",
       "    </tr>\n",
       "    <tr>\n",
       "      <th>85</th>\n",
       "      <td>according</td>\n",
       "      <td>151.499170</td>\n",
       "    </tr>\n",
       "    <tr>\n",
       "      <th>657</th>\n",
       "      <td>going</td>\n",
       "      <td>149.290185</td>\n",
       "    </tr>\n",
       "    <tr>\n",
       "      <th>884</th>\n",
       "      <td>loses</td>\n",
       "      <td>146.612702</td>\n",
       "    </tr>\n",
       "    <tr>\n",
       "      <th>1413</th>\n",
       "      <td>spot</td>\n",
       "      <td>146.407533</td>\n",
       "    </tr>\n",
       "    <tr>\n",
       "      <th>762</th>\n",
       "      <td>incredible</td>\n",
       "      <td>141.371741</td>\n",
       "    </tr>\n",
       "    <tr>\n",
       "      <th>1523</th>\n",
       "      <td>tinder</td>\n",
       "      <td>137.664103</td>\n",
       "    </tr>\n",
       "    <tr>\n",
       "      <th>915</th>\n",
       "      <td>matched</td>\n",
       "      <td>137.664103</td>\n",
       "    </tr>\n",
       "    <tr>\n",
       "      <th>1298</th>\n",
       "      <td>run</td>\n",
       "      <td>132.732664</td>\n",
       "    </tr>\n",
       "    <tr>\n",
       "      <th>931</th>\n",
       "      <td>meme</td>\n",
       "      <td>131.949656</td>\n",
       "    </tr>\n",
       "    <tr>\n",
       "      <th>295</th>\n",
       "      <td>chat</td>\n",
       "      <td>131.189485</td>\n",
       "    </tr>\n",
       "    <tr>\n",
       "      <th>719</th>\n",
       "      <td>hey</td>\n",
       "      <td>127.268858</td>\n",
       "    </tr>\n",
       "  </tbody>\n",
       "</table>\n",
       "</div>"
      ],
      "text/plain": [
       "           words       coefs\n",
       "961          mom  194.095630\n",
       "1367   simulated  187.982693\n",
       "918        mates  154.951895\n",
       "62            50  154.911009\n",
       "85     according  151.499170\n",
       "657        going  149.290185\n",
       "884        loses  146.612702\n",
       "1413        spot  146.407533\n",
       "762   incredible  141.371741\n",
       "1523      tinder  137.664103\n",
       "915      matched  137.664103\n",
       "1298         run  132.732664\n",
       "931         meme  131.949656\n",
       "295         chat  131.189485\n",
       "719          hey  127.268858"
      ]
     },
     "execution_count": 30,
     "metadata": {},
     "output_type": "execute_result"
    }
   ],
   "source": [
    "word_coefs.sort_values(by='coefs', ascending=False).head(15)"
   ]
  },
  {
   "cell_type": "markdown",
   "metadata": {},
   "source": [
    "# Logistic Regression with Ngram"
   ]
  },
  {
   "cell_type": "code",
   "execution_count": 94,
   "metadata": {},
   "outputs": [
    {
     "data": {
      "text/html": [
       "<style>#sk-27d71973-cc70-483a-affd-15081d08b4ab {color: black;background-color: white;}#sk-27d71973-cc70-483a-affd-15081d08b4ab pre{padding: 0;}#sk-27d71973-cc70-483a-affd-15081d08b4ab div.sk-toggleable {background-color: white;}#sk-27d71973-cc70-483a-affd-15081d08b4ab label.sk-toggleable__label {cursor: pointer;display: block;width: 100%;margin-bottom: 0;padding: 0.3em;box-sizing: border-box;text-align: center;}#sk-27d71973-cc70-483a-affd-15081d08b4ab div.sk-toggleable__content {max-height: 0;max-width: 0;overflow: hidden;text-align: left;background-color: #f0f8ff;}#sk-27d71973-cc70-483a-affd-15081d08b4ab div.sk-toggleable__content pre {margin: 0.2em;color: black;border-radius: 0.25em;background-color: #f0f8ff;}#sk-27d71973-cc70-483a-affd-15081d08b4ab input.sk-toggleable__control:checked~div.sk-toggleable__content {max-height: 200px;max-width: 100%;overflow: auto;}#sk-27d71973-cc70-483a-affd-15081d08b4ab div.sk-estimator input.sk-toggleable__control:checked~label.sk-toggleable__label {background-color: #d4ebff;}#sk-27d71973-cc70-483a-affd-15081d08b4ab div.sk-label input.sk-toggleable__control:checked~label.sk-toggleable__label {background-color: #d4ebff;}#sk-27d71973-cc70-483a-affd-15081d08b4ab input.sk-hidden--visually {border: 0;clip: rect(1px 1px 1px 1px);clip: rect(1px, 1px, 1px, 1px);height: 1px;margin: -1px;overflow: hidden;padding: 0;position: absolute;width: 1px;}#sk-27d71973-cc70-483a-affd-15081d08b4ab div.sk-estimator {font-family: monospace;background-color: #f0f8ff;border: 1px dotted black;border-radius: 0.25em;box-sizing: border-box;margin-bottom: 0.5em;}#sk-27d71973-cc70-483a-affd-15081d08b4ab div.sk-estimator:hover {background-color: #d4ebff;}#sk-27d71973-cc70-483a-affd-15081d08b4ab div.sk-parallel-item::after {content: \"\";width: 100%;border-bottom: 1px solid gray;flex-grow: 1;}#sk-27d71973-cc70-483a-affd-15081d08b4ab div.sk-label:hover label.sk-toggleable__label {background-color: #d4ebff;}#sk-27d71973-cc70-483a-affd-15081d08b4ab div.sk-serial::before {content: \"\";position: absolute;border-left: 1px solid gray;box-sizing: border-box;top: 2em;bottom: 0;left: 50%;}#sk-27d71973-cc70-483a-affd-15081d08b4ab div.sk-serial {display: flex;flex-direction: column;align-items: center;background-color: white;padding-right: 0.2em;padding-left: 0.2em;}#sk-27d71973-cc70-483a-affd-15081d08b4ab div.sk-item {z-index: 1;}#sk-27d71973-cc70-483a-affd-15081d08b4ab div.sk-parallel {display: flex;align-items: stretch;justify-content: center;background-color: white;}#sk-27d71973-cc70-483a-affd-15081d08b4ab div.sk-parallel::before {content: \"\";position: absolute;border-left: 1px solid gray;box-sizing: border-box;top: 2em;bottom: 0;left: 50%;}#sk-27d71973-cc70-483a-affd-15081d08b4ab div.sk-parallel-item {display: flex;flex-direction: column;position: relative;background-color: white;}#sk-27d71973-cc70-483a-affd-15081d08b4ab div.sk-parallel-item:first-child::after {align-self: flex-end;width: 50%;}#sk-27d71973-cc70-483a-affd-15081d08b4ab div.sk-parallel-item:last-child::after {align-self: flex-start;width: 50%;}#sk-27d71973-cc70-483a-affd-15081d08b4ab div.sk-parallel-item:only-child::after {width: 0;}#sk-27d71973-cc70-483a-affd-15081d08b4ab div.sk-dashed-wrapped {border: 1px dashed gray;margin: 0 0.4em 0.5em 0.4em;box-sizing: border-box;padding-bottom: 0.4em;background-color: white;position: relative;}#sk-27d71973-cc70-483a-affd-15081d08b4ab div.sk-label label {font-family: monospace;font-weight: bold;background-color: white;display: inline-block;line-height: 1.2em;}#sk-27d71973-cc70-483a-affd-15081d08b4ab div.sk-label-container {position: relative;z-index: 2;text-align: center;}#sk-27d71973-cc70-483a-affd-15081d08b4ab div.sk-container {display: inline-block;position: relative;}</style><div id=\"sk-27d71973-cc70-483a-affd-15081d08b4ab\" class\"sk-top-container\"><div class=\"sk-container\"><div class=\"sk-item sk-dashed-wrapped\"><div class=\"sk-label-container\"><div class=\"sk-label sk-toggleable\"><input class=\"sk-toggleable__control sk-hidden--visually\" id=\"81685ba8-f502-493e-b4c0-d558aca770aa\" type=\"checkbox\" ><label class=\"sk-toggleable__label\" for=\"81685ba8-f502-493e-b4c0-d558aca770aa\">Pipeline</label><div class=\"sk-toggleable__content\"><pre>Pipeline(steps=[('countvectorizer',\n",
       "                 CountVectorizer(max_features=1000, ngram_range=(1, 2),\n",
       "                                 stop_words='english')),\n",
       "                ('logisticregression',\n",
       "                 LogisticRegression(max_iter=1000, penalty='none'))])</pre></div></div></div><div class=\"sk-serial\"><div class=\"sk-item\"><div class=\"sk-estimator sk-toggleable\"><input class=\"sk-toggleable__control sk-hidden--visually\" id=\"f086eabf-fd52-462b-90ac-0c8d80cf7d04\" type=\"checkbox\" ><label class=\"sk-toggleable__label\" for=\"f086eabf-fd52-462b-90ac-0c8d80cf7d04\">CountVectorizer</label><div class=\"sk-toggleable__content\"><pre>CountVectorizer(max_features=1000, ngram_range=(1, 2), stop_words='english')</pre></div></div></div><div class=\"sk-item\"><div class=\"sk-estimator sk-toggleable\"><input class=\"sk-toggleable__control sk-hidden--visually\" id=\"eb28e820-80bb-4606-946f-e0236910192c\" type=\"checkbox\" ><label class=\"sk-toggleable__label\" for=\"eb28e820-80bb-4606-946f-e0236910192c\">LogisticRegression</label><div class=\"sk-toggleable__content\"><pre>LogisticRegression(max_iter=1000, penalty='none')</pre></div></div></div></div></div></div></div>"
      ],
      "text/plain": [
       "Pipeline(steps=[('countvectorizer',\n",
       "                 CountVectorizer(max_features=1000, ngram_range=(1, 2),\n",
       "                                 stop_words='english')),\n",
       "                ('logisticregression',\n",
       "                 LogisticRegression(max_iter=1000, penalty='none'))])"
      ]
     },
     "execution_count": 94,
     "metadata": {},
     "output_type": "execute_result"
    }
   ],
   "source": [
    "# trying N-gram\n",
    "cvect_pipe_ngram = make_pipeline(CountVectorizer(stop_words = 'english', max_features = 1000, ngram_range=(1,2)),\n",
    "                           LogisticRegression(max_iter=1000, penalty=\"none\"))\n",
    "\n",
    "cvect_pipe_ngram.fit(X_train,y_train)"
   ]
  },
  {
   "cell_type": "code",
   "execution_count": 95,
   "metadata": {},
   "outputs": [
    {
     "data": {
      "text/plain": [
       "0.968"
      ]
     },
     "execution_count": 95,
     "metadata": {},
     "output_type": "execute_result"
    }
   ],
   "source": [
    "cvect_pipe_ngram.score(X_train, y_train)"
   ]
  },
  {
   "cell_type": "code",
   "execution_count": 96,
   "metadata": {},
   "outputs": [
    {
     "data": {
      "text/plain": [
       "0.636"
      ]
     },
     "execution_count": 96,
     "metadata": {},
     "output_type": "execute_result"
    }
   ],
   "source": [
    "cvect_pipe_ngram.score(X_test, y_test)"
   ]
  },
  {
   "cell_type": "markdown",
   "metadata": {},
   "source": [
    "# Naive Bayes"
   ]
  },
  {
   "cell_type": "code",
   "execution_count": 143,
   "metadata": {},
   "outputs": [
    {
     "data": {
      "text/html": [
       "<style>#sk-c8ed6c6c-85bf-4199-8529-b877f1e177e8 {color: black;background-color: white;}#sk-c8ed6c6c-85bf-4199-8529-b877f1e177e8 pre{padding: 0;}#sk-c8ed6c6c-85bf-4199-8529-b877f1e177e8 div.sk-toggleable {background-color: white;}#sk-c8ed6c6c-85bf-4199-8529-b877f1e177e8 label.sk-toggleable__label {cursor: pointer;display: block;width: 100%;margin-bottom: 0;padding: 0.3em;box-sizing: border-box;text-align: center;}#sk-c8ed6c6c-85bf-4199-8529-b877f1e177e8 div.sk-toggleable__content {max-height: 0;max-width: 0;overflow: hidden;text-align: left;background-color: #f0f8ff;}#sk-c8ed6c6c-85bf-4199-8529-b877f1e177e8 div.sk-toggleable__content pre {margin: 0.2em;color: black;border-radius: 0.25em;background-color: #f0f8ff;}#sk-c8ed6c6c-85bf-4199-8529-b877f1e177e8 input.sk-toggleable__control:checked~div.sk-toggleable__content {max-height: 200px;max-width: 100%;overflow: auto;}#sk-c8ed6c6c-85bf-4199-8529-b877f1e177e8 div.sk-estimator input.sk-toggleable__control:checked~label.sk-toggleable__label {background-color: #d4ebff;}#sk-c8ed6c6c-85bf-4199-8529-b877f1e177e8 div.sk-label input.sk-toggleable__control:checked~label.sk-toggleable__label {background-color: #d4ebff;}#sk-c8ed6c6c-85bf-4199-8529-b877f1e177e8 input.sk-hidden--visually {border: 0;clip: rect(1px 1px 1px 1px);clip: rect(1px, 1px, 1px, 1px);height: 1px;margin: -1px;overflow: hidden;padding: 0;position: absolute;width: 1px;}#sk-c8ed6c6c-85bf-4199-8529-b877f1e177e8 div.sk-estimator {font-family: monospace;background-color: #f0f8ff;border: 1px dotted black;border-radius: 0.25em;box-sizing: border-box;margin-bottom: 0.5em;}#sk-c8ed6c6c-85bf-4199-8529-b877f1e177e8 div.sk-estimator:hover {background-color: #d4ebff;}#sk-c8ed6c6c-85bf-4199-8529-b877f1e177e8 div.sk-parallel-item::after {content: \"\";width: 100%;border-bottom: 1px solid gray;flex-grow: 1;}#sk-c8ed6c6c-85bf-4199-8529-b877f1e177e8 div.sk-label:hover label.sk-toggleable__label {background-color: #d4ebff;}#sk-c8ed6c6c-85bf-4199-8529-b877f1e177e8 div.sk-serial::before {content: \"\";position: absolute;border-left: 1px solid gray;box-sizing: border-box;top: 2em;bottom: 0;left: 50%;}#sk-c8ed6c6c-85bf-4199-8529-b877f1e177e8 div.sk-serial {display: flex;flex-direction: column;align-items: center;background-color: white;padding-right: 0.2em;padding-left: 0.2em;}#sk-c8ed6c6c-85bf-4199-8529-b877f1e177e8 div.sk-item {z-index: 1;}#sk-c8ed6c6c-85bf-4199-8529-b877f1e177e8 div.sk-parallel {display: flex;align-items: stretch;justify-content: center;background-color: white;}#sk-c8ed6c6c-85bf-4199-8529-b877f1e177e8 div.sk-parallel::before {content: \"\";position: absolute;border-left: 1px solid gray;box-sizing: border-box;top: 2em;bottom: 0;left: 50%;}#sk-c8ed6c6c-85bf-4199-8529-b877f1e177e8 div.sk-parallel-item {display: flex;flex-direction: column;position: relative;background-color: white;}#sk-c8ed6c6c-85bf-4199-8529-b877f1e177e8 div.sk-parallel-item:first-child::after {align-self: flex-end;width: 50%;}#sk-c8ed6c6c-85bf-4199-8529-b877f1e177e8 div.sk-parallel-item:last-child::after {align-self: flex-start;width: 50%;}#sk-c8ed6c6c-85bf-4199-8529-b877f1e177e8 div.sk-parallel-item:only-child::after {width: 0;}#sk-c8ed6c6c-85bf-4199-8529-b877f1e177e8 div.sk-dashed-wrapped {border: 1px dashed gray;margin: 0 0.4em 0.5em 0.4em;box-sizing: border-box;padding-bottom: 0.4em;background-color: white;position: relative;}#sk-c8ed6c6c-85bf-4199-8529-b877f1e177e8 div.sk-label label {font-family: monospace;font-weight: bold;background-color: white;display: inline-block;line-height: 1.2em;}#sk-c8ed6c6c-85bf-4199-8529-b877f1e177e8 div.sk-label-container {position: relative;z-index: 2;text-align: center;}#sk-c8ed6c6c-85bf-4199-8529-b877f1e177e8 div.sk-container {display: inline-block;position: relative;}</style><div id=\"sk-c8ed6c6c-85bf-4199-8529-b877f1e177e8\" class\"sk-top-container\"><div class=\"sk-container\"><div class=\"sk-item sk-dashed-wrapped\"><div class=\"sk-label-container\"><div class=\"sk-label sk-toggleable\"><input class=\"sk-toggleable__control sk-hidden--visually\" id=\"4c4ffb53-b7fb-4b56-a70b-9d9ef3cf47e3\" type=\"checkbox\" ><label class=\"sk-toggleable__label\" for=\"4c4ffb53-b7fb-4b56-a70b-9d9ef3cf47e3\">Pipeline</label><div class=\"sk-toggleable__content\"><pre>Pipeline(steps=[('countvectorizer',\n",
       "                 CountVectorizer(max_features=1000, stop_words='english')),\n",
       "                ('multinomialnb', MultinomialNB())])</pre></div></div></div><div class=\"sk-serial\"><div class=\"sk-item\"><div class=\"sk-estimator sk-toggleable\"><input class=\"sk-toggleable__control sk-hidden--visually\" id=\"fc3e73af-cba3-4ec3-984e-6066bc7d5e40\" type=\"checkbox\" ><label class=\"sk-toggleable__label\" for=\"fc3e73af-cba3-4ec3-984e-6066bc7d5e40\">CountVectorizer</label><div class=\"sk-toggleable__content\"><pre>CountVectorizer(max_features=1000, stop_words='english')</pre></div></div></div><div class=\"sk-item\"><div class=\"sk-estimator sk-toggleable\"><input class=\"sk-toggleable__control sk-hidden--visually\" id=\"f4d70f68-5131-4825-adfe-8ff04e9c94ab\" type=\"checkbox\" ><label class=\"sk-toggleable__label\" for=\"f4d70f68-5131-4825-adfe-8ff04e9c94ab\">MultinomialNB</label><div class=\"sk-toggleable__content\"><pre>MultinomialNB()</pre></div></div></div></div></div></div></div>"
      ],
      "text/plain": [
       "Pipeline(steps=[('countvectorizer',\n",
       "                 CountVectorizer(max_features=1000, stop_words='english')),\n",
       "                ('multinomialnb', MultinomialNB())])"
      ]
     },
     "execution_count": 143,
     "metadata": {},
     "output_type": "execute_result"
    }
   ],
   "source": [
    "cvect_pipe2 = make_pipeline(CountVectorizer(stop_words = 'english', max_features = 1000),\n",
    "                           MultinomialNB())\n",
    "\n",
    "cvect_pipe2.fit(X_train,y_train)"
   ]
  },
  {
   "cell_type": "code",
   "execution_count": 144,
   "metadata": {},
   "outputs": [
    {
     "data": {
      "text/plain": [
       "0.88"
      ]
     },
     "execution_count": 144,
     "metadata": {},
     "output_type": "execute_result"
    }
   ],
   "source": [
    "cvect_pipe2.score(X_train, y_train)"
   ]
  },
  {
   "cell_type": "code",
   "execution_count": 145,
   "metadata": {},
   "outputs": [
    {
     "data": {
      "text/plain": [
       "0.632"
      ]
     },
     "execution_count": 145,
     "metadata": {},
     "output_type": "execute_result"
    }
   ],
   "source": [
    "cvect_pipe2.score(X_test, y_test)"
   ]
  },
  {
   "cell_type": "markdown",
   "metadata": {},
   "source": [
    "# Random Forest"
   ]
  },
  {
   "cell_type": "code",
   "execution_count": 140,
   "metadata": {},
   "outputs": [
    {
     "data": {
      "text/html": [
       "<style>#sk-c1b8add8-2c55-4dd7-9938-cf27983ca169 {color: black;background-color: white;}#sk-c1b8add8-2c55-4dd7-9938-cf27983ca169 pre{padding: 0;}#sk-c1b8add8-2c55-4dd7-9938-cf27983ca169 div.sk-toggleable {background-color: white;}#sk-c1b8add8-2c55-4dd7-9938-cf27983ca169 label.sk-toggleable__label {cursor: pointer;display: block;width: 100%;margin-bottom: 0;padding: 0.3em;box-sizing: border-box;text-align: center;}#sk-c1b8add8-2c55-4dd7-9938-cf27983ca169 div.sk-toggleable__content {max-height: 0;max-width: 0;overflow: hidden;text-align: left;background-color: #f0f8ff;}#sk-c1b8add8-2c55-4dd7-9938-cf27983ca169 div.sk-toggleable__content pre {margin: 0.2em;color: black;border-radius: 0.25em;background-color: #f0f8ff;}#sk-c1b8add8-2c55-4dd7-9938-cf27983ca169 input.sk-toggleable__control:checked~div.sk-toggleable__content {max-height: 200px;max-width: 100%;overflow: auto;}#sk-c1b8add8-2c55-4dd7-9938-cf27983ca169 div.sk-estimator input.sk-toggleable__control:checked~label.sk-toggleable__label {background-color: #d4ebff;}#sk-c1b8add8-2c55-4dd7-9938-cf27983ca169 div.sk-label input.sk-toggleable__control:checked~label.sk-toggleable__label {background-color: #d4ebff;}#sk-c1b8add8-2c55-4dd7-9938-cf27983ca169 input.sk-hidden--visually {border: 0;clip: rect(1px 1px 1px 1px);clip: rect(1px, 1px, 1px, 1px);height: 1px;margin: -1px;overflow: hidden;padding: 0;position: absolute;width: 1px;}#sk-c1b8add8-2c55-4dd7-9938-cf27983ca169 div.sk-estimator {font-family: monospace;background-color: #f0f8ff;border: 1px dotted black;border-radius: 0.25em;box-sizing: border-box;margin-bottom: 0.5em;}#sk-c1b8add8-2c55-4dd7-9938-cf27983ca169 div.sk-estimator:hover {background-color: #d4ebff;}#sk-c1b8add8-2c55-4dd7-9938-cf27983ca169 div.sk-parallel-item::after {content: \"\";width: 100%;border-bottom: 1px solid gray;flex-grow: 1;}#sk-c1b8add8-2c55-4dd7-9938-cf27983ca169 div.sk-label:hover label.sk-toggleable__label {background-color: #d4ebff;}#sk-c1b8add8-2c55-4dd7-9938-cf27983ca169 div.sk-serial::before {content: \"\";position: absolute;border-left: 1px solid gray;box-sizing: border-box;top: 2em;bottom: 0;left: 50%;}#sk-c1b8add8-2c55-4dd7-9938-cf27983ca169 div.sk-serial {display: flex;flex-direction: column;align-items: center;background-color: white;padding-right: 0.2em;padding-left: 0.2em;}#sk-c1b8add8-2c55-4dd7-9938-cf27983ca169 div.sk-item {z-index: 1;}#sk-c1b8add8-2c55-4dd7-9938-cf27983ca169 div.sk-parallel {display: flex;align-items: stretch;justify-content: center;background-color: white;}#sk-c1b8add8-2c55-4dd7-9938-cf27983ca169 div.sk-parallel::before {content: \"\";position: absolute;border-left: 1px solid gray;box-sizing: border-box;top: 2em;bottom: 0;left: 50%;}#sk-c1b8add8-2c55-4dd7-9938-cf27983ca169 div.sk-parallel-item {display: flex;flex-direction: column;position: relative;background-color: white;}#sk-c1b8add8-2c55-4dd7-9938-cf27983ca169 div.sk-parallel-item:first-child::after {align-self: flex-end;width: 50%;}#sk-c1b8add8-2c55-4dd7-9938-cf27983ca169 div.sk-parallel-item:last-child::after {align-self: flex-start;width: 50%;}#sk-c1b8add8-2c55-4dd7-9938-cf27983ca169 div.sk-parallel-item:only-child::after {width: 0;}#sk-c1b8add8-2c55-4dd7-9938-cf27983ca169 div.sk-dashed-wrapped {border: 1px dashed gray;margin: 0 0.4em 0.5em 0.4em;box-sizing: border-box;padding-bottom: 0.4em;background-color: white;position: relative;}#sk-c1b8add8-2c55-4dd7-9938-cf27983ca169 div.sk-label label {font-family: monospace;font-weight: bold;background-color: white;display: inline-block;line-height: 1.2em;}#sk-c1b8add8-2c55-4dd7-9938-cf27983ca169 div.sk-label-container {position: relative;z-index: 2;text-align: center;}#sk-c1b8add8-2c55-4dd7-9938-cf27983ca169 div.sk-container {display: inline-block;position: relative;}</style><div id=\"sk-c1b8add8-2c55-4dd7-9938-cf27983ca169\" class\"sk-top-container\"><div class=\"sk-container\"><div class=\"sk-item sk-dashed-wrapped\"><div class=\"sk-label-container\"><div class=\"sk-label sk-toggleable\"><input class=\"sk-toggleable__control sk-hidden--visually\" id=\"e40bea88-f255-451a-8000-83e24536cadb\" type=\"checkbox\" ><label class=\"sk-toggleable__label\" for=\"e40bea88-f255-451a-8000-83e24536cadb\">Pipeline</label><div class=\"sk-toggleable__content\"><pre>Pipeline(steps=[('countvectorizer',\n",
       "                 CountVectorizer(max_features=5000, ngram_range=(1, 3),\n",
       "                                 stop_words='english')),\n",
       "                ('randomforestclassifier',\n",
       "                 RandomForestClassifier(n_estimators=1000, random_state=123))])</pre></div></div></div><div class=\"sk-serial\"><div class=\"sk-item\"><div class=\"sk-estimator sk-toggleable\"><input class=\"sk-toggleable__control sk-hidden--visually\" id=\"15e55c6f-fe38-4623-b143-fc52ae66f23f\" type=\"checkbox\" ><label class=\"sk-toggleable__label\" for=\"15e55c6f-fe38-4623-b143-fc52ae66f23f\">CountVectorizer</label><div class=\"sk-toggleable__content\"><pre>CountVectorizer(max_features=5000, ngram_range=(1, 3), stop_words='english')</pre></div></div></div><div class=\"sk-item\"><div class=\"sk-estimator sk-toggleable\"><input class=\"sk-toggleable__control sk-hidden--visually\" id=\"aa0c0097-adc0-41c6-b1b2-fdbca536454d\" type=\"checkbox\" ><label class=\"sk-toggleable__label\" for=\"aa0c0097-adc0-41c6-b1b2-fdbca536454d\">RandomForestClassifier</label><div class=\"sk-toggleable__content\"><pre>RandomForestClassifier(n_estimators=1000, random_state=123)</pre></div></div></div></div></div></div></div>"
      ],
      "text/plain": [
       "Pipeline(steps=[('countvectorizer',\n",
       "                 CountVectorizer(max_features=5000, ngram_range=(1, 3),\n",
       "                                 stop_words='english')),\n",
       "                ('randomforestclassifier',\n",
       "                 RandomForestClassifier(n_estimators=1000, random_state=123))])"
      ]
     },
     "execution_count": 140,
     "metadata": {},
     "output_type": "execute_result"
    }
   ],
   "source": [
    "forest_pipe = make_pipeline(CountVectorizer(stop_words = 'english', max_features = 5000, ngram_range = (1,3)),\n",
    "                           RandomForestClassifier(n_estimators = 1000, random_state = 123))\n",
    "\n",
    "forest_pipe.fit(X_train, y_train)"
   ]
  },
  {
   "cell_type": "code",
   "execution_count": 141,
   "metadata": {},
   "outputs": [
    {
     "data": {
      "text/plain": [
       "0.9933333333333333"
      ]
     },
     "execution_count": 141,
     "metadata": {},
     "output_type": "execute_result"
    }
   ],
   "source": [
    "forest_pipe.score(X_train, y_train)"
   ]
  },
  {
   "cell_type": "code",
   "execution_count": 142,
   "metadata": {},
   "outputs": [
    {
     "data": {
      "text/plain": [
       "0.664"
      ]
     },
     "execution_count": 142,
     "metadata": {},
     "output_type": "execute_result"
    }
   ],
   "source": [
    "forest_pipe.score(X_test, y_test)"
   ]
  }
 ],
 "metadata": {
  "kernelspec": {
   "display_name": "Python 3",
   "language": "python",
   "name": "python3"
  },
  "language_info": {
   "codemirror_mode": {
    "name": "ipython",
    "version": 3
   },
   "file_extension": ".py",
   "mimetype": "text/x-python",
   "name": "python",
   "nbconvert_exporter": "python",
   "pygments_lexer": "ipython3",
   "version": "3.7.6"
  }
 },
 "nbformat": 4,
 "nbformat_minor": 4
}
